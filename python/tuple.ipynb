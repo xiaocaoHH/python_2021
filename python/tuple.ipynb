{
 "cells": [
  {
   "cell_type": "code",
   "execution_count": 1,
   "metadata": {},
   "outputs": [
    {
     "name": "stdout",
     "output_type": "stream",
     "text": [
      "()\n",
      "(1, 23)\n",
      "(1, 2, 3)\n",
      "(1, 'Hello', 3.4)\n",
      "('mouse', [8, 4, 6], (1, 2, 3))\n",
      "(3, 4.6, 'dog')\n",
      "3\n",
      "4.6\n",
      "dog\n"
     ]
    }
   ],
   "source": [
    "# tuple （不可变的）\n",
    "\n",
    "#:A tuple is created by placing all the elements inside parentheses() separated by commas. \n",
    "# A tuple can have any number of items and they may be of different types.\n",
    "\n",
    "################# 产生 ##################\n",
    "\n",
    "# Empty tuple\n",
    "my_tuple = ()\n",
    "print(my_tuple)  # Output: ()\n",
    "\n",
    "my_tuple = tuple([1,23])\n",
    "print(my_tuple)\n",
    "\n",
    "# Tuple having integers\n",
    "my_tuple = (1, 2, 3)\n",
    "print(my_tuple)  # Output: (1, 2, 3) \n",
    "\n",
    "# tuple with mixed datatypes\n",
    "my_tuple = (1, \"Hello\", 3.4)\n",
    "print(my_tuple)  # Output: (1, \"Hello\", 3.4)  \n",
    "\n",
    "# nested tuple\n",
    "my_tuple = (\"mouse\", [8, 4, 6], (1, 2, 3))\n",
    "print(my_tuple) # Output: (\"mouse\", [8, 4, 6], (1, 2, 3)) \n",
    "\n",
    "# A tuple can also be created without using parentheses.\n",
    "my_tuple = 3, 4.6, \"dog\"\n",
    "print(my_tuple)   # Output: 3, 4.6, \"dog\" \n",
    "\n",
    "# tuple unpacking is also possible\n",
    "a, b, c = my_tuple\n",
    "print(a)      # 3\n",
    "print(b)      # 4.6 \n",
    "print(c)      # dog"
   ]
  },
  {
   "cell_type": "code",
   "execution_count": 2,
   "metadata": {},
   "outputs": [
    {
     "name": "stdout",
     "output_type": "stream",
     "text": [
      "p\n",
      "t\n",
      "s\n",
      "4\n",
      "t\n",
      "p\n",
      "('r', 'o', 'g')\n",
      "('p', 'r')\n",
      "('i', 'z')\n",
      "('p', 'r', 'o', 'g', 'r', 'a', 'm', 'i', 'z')\n",
      "(4, 2, 3, [9, 5])\n",
      "('p', 'r', 'o', 'g', 'r', 'a', 'm', 'i', 'z')\n"
     ]
    }
   ],
   "source": [
    "################# 存取 ##################\n",
    "\n",
    "# indexing\n",
    "my_tuple = ('p','e','r','m','i','t')\n",
    "\n",
    "print(my_tuple[0])   # 'p' \n",
    "print(my_tuple[5])   # 't'\n",
    "\n",
    "# nested tuple\n",
    "n_tuple = (\"mouse\", [8, 4, 6], (1, 2, 3))\n",
    "\n",
    "# nested index\n",
    "print(n_tuple[0][3])       # 's'\n",
    "print(n_tuple[1][1])       # 4\n",
    "\n",
    "# Negative Indexing\n",
    "print(my_tuple[-1]) # Output: 't'\n",
    "\n",
    "print(my_tuple[-6]) # Output: 'p'\n",
    "\n",
    "# slicing\n",
    "my_tuple = ('p','r','o','g','r','a','m','i','z')\n",
    "\n",
    "# elements 2nd to 4th\n",
    "print(my_tuple[1:4]) # Output: ('r', 'o', 'g')\n",
    "\n",
    "# elements beginning to 2nd\n",
    "print(my_tuple[:-7]) # Output: ('p', 'r')\n",
    "\n",
    "# elements 8th to end\n",
    "print(my_tuple[7:]) # Output: ('i', 'z')\n",
    "\n",
    "# elements beginning to end\n",
    "print(my_tuple[:]) # Output: ('p', 'r', 'o', 'g', 'r', 'a', 'm', 'i', 'z')\n",
    "\n",
    "\n",
    "# change a tuple: Tuples are immutable\n",
    "my_tuple = (4, 2, 3, [6, 5])\n",
    "# TypeError: 'tuple' object does not support item assignment\n",
    "# my_tuple[1] = 9\n",
    "# can't delete items\n",
    "# TypeError: 'tuple' object doesn't support item deletion\n",
    "# del my_tuple[3]\n",
    "\n",
    "# However, item of mutable element can be changed\n",
    "my_tuple[3][0] = 9    # Output: (4, 2, 3, [9, 5])\n",
    "print(my_tuple)\n",
    "\n",
    "# Tuples can be reassigned\n",
    "my_tuple = ('p','r','o','g','r','a','m','i','z') # Output: ('p', 'r', 'o', 'g', 'r', 'a', 'm', 'i', 'z')\n",
    "print(my_tuple)"
   ]
  },
  {
   "cell_type": "code",
   "execution_count": 3,
   "metadata": {},
   "outputs": [
    {
     "name": "stdout",
     "output_type": "stream",
     "text": [
      "(1, 2, 3, 4, 5, 6)\n",
      "('Repeat', 'Repeat', 'Repeat')\n",
      "True\n",
      "False\n",
      "True\n",
      "Hello John\n",
      "Hello Kate\n"
     ]
    }
   ],
   "source": [
    "################# 连接 ##################\n",
    "\n",
    "print((1, 2, 3) + (4, 5, 6)) # Output: (1, 2, 3, 4, 5, 6)\n",
    "\n",
    "print((\"Repeat\",) * 3) # Output: ('Repeat', 'Repeat', 'Repeat')\n",
    "\n",
    "\n",
    "\n",
    "################# 其它 （成员） ##################\n",
    "\n",
    "my_tuple = ('a','p','p','l','e',)\n",
    "\n",
    "print('a' in my_tuple) # Output: True\n",
    "\n",
    "print('b' in my_tuple) # Output: False\n",
    "\n",
    "print('g' not in my_tuple) # Output: True\n",
    "\n",
    "# iterating through a tuple\n",
    "\n",
    "# Output: \n",
    "# Hello John\n",
    "# Hello Kate\n",
    "for name in ('John','Kate'):\n",
    "     \tprint(\"Hello\",name)    "
   ]
  },
  {
   "cell_type": "code",
   "execution_count": null,
   "metadata": {},
   "outputs": [],
   "source": []
  }
 ],
 "metadata": {
  "kernelspec": {
   "display_name": "Python 3",
   "language": "python",
   "name": "python3"
  },
  "language_info": {
   "codemirror_mode": {
    "name": "ipython",
    "version": 3
   },
   "file_extension": ".py",
   "mimetype": "text/x-python",
   "name": "python",
   "nbconvert_exporter": "python",
   "pygments_lexer": "ipython3",
   "version": "3.7.8"
  }
 },
 "nbformat": 4,
 "nbformat_minor": 4
}
