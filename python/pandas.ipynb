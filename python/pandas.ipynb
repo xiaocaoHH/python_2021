{
 "cells": [
  {
   "cell_type": "code",
   "execution_count": 3,
   "metadata": {
    "colab": {
     "base_uri": "https://localhost:8080/"
    },
    "id": "g9iFd4aSJL6V",
    "outputId": "6062957f-44d3-4aa6-eba5-c892afb5dd6a"
   },
   "outputs": [
    {
     "name": "stdout",
     "output_type": "stream",
     "text": [
      "a    1.0\n",
      "b    2.0\n",
      "c    3.0\n",
      "d    NaN\n",
      "Name: one, dtype: float64\n",
      "   one  two  three\n",
      "a  1.0    1   10.0\n",
      "b  2.0    2   20.0\n",
      "c  3.0    3   30.0\n",
      "d  NaN    4    NaN\n",
      "   one  two  three  four\n",
      "a  1.0    1   10.0  11.0\n",
      "b  2.0    2   20.0  22.0\n",
      "c  3.0    3   30.0  33.0\n",
      "d  NaN    4    NaN   NaN\n",
      "   two  three  four\n",
      "a    1   10.0  11.0\n",
      "b    2   20.0  22.0\n",
      "c    3   30.0  33.0\n",
      "d    4    NaN   NaN\n",
      "   three  four\n",
      "a   10.0  11.0\n",
      "b   20.0  22.0\n",
      "c   30.0  33.0\n",
      "d    NaN   NaN\n"
     ]
    }
   ],
   "source": [
    "# Pandas deals with the following three data structures \n",
    "# Series(a one-dimensional data structure), DataFrame(a two-dimensional data structure), Panel(a three-dimensional data structure)\n",
    "# All Pandas data structures are value mutable (can be changed) and all are size mutable except Series.\n",
    "\n",
    "import pandas as pd\n",
    "d = {'one' : pd.Series([1, 2, 3], index=['a', 'b', 'c']),'two' : pd.Series([1, 2, 3, 4], index=['a', 'b', 'c', 'd'])}\n",
    "df = pd.DataFrame(d)\n",
    "# Column Selection\n",
    "print(df ['one'])\n",
    "\n",
    "# Column Addition\n",
    "df['three']=pd.Series([10,20,30],index=['a','b','c'])\n",
    "print(df)\n",
    "df['four']=df['one']+df['three']\n",
    "print(df)\n",
    "\n",
    "# Column Deletion\n",
    "del df['one']\n",
    "print(df)\n",
    "\n",
    "df.pop('two')\n",
    "print(df)"
   ]
  },
  {
   "cell_type": "code",
   "execution_count": 10,
   "metadata": {
    "colab": {
     "base_uri": "https://localhost:8080/"
    },
    "id": "EQJuHvUO4LyG",
    "outputId": "bc23ae51-0ccb-4d59-9569-7b959e036618"
   },
   "outputs": [
    {
     "name": "stdout",
     "output_type": "stream",
     "text": [
      "a    3\n",
      "b   -5\n",
      "c    7\n",
      "d    4\n",
      "dtype: int64\n",
      "7\n",
      "-5\n",
      "7\n",
      "-5\n"
     ]
    }
   ],
   "source": [
    "# creation\n",
    "import pandas as pd\n",
    "ds = pd.Series([3, -5, 7, 4], index=['a', 'b', 'c', 'd'])\n",
    "print(ds)\n",
    "print(ds['c'])\n",
    "print(ds[1])\n",
    "print(ds.loc['c'])\n",
    "print(ds.iloc[1])"
   ]
  },
  {
   "cell_type": "code",
   "execution_count": 203,
   "metadata": {
    "colab": {
     "base_uri": "https://localhost:8080/"
    },
    "id": "FPnYyYQ1_VMd",
    "outputId": "1fa2ecb4-61ef-4cac-8a75-00022ff63aac"
   },
   "outputs": [
    {
     "name": "stdout",
     "output_type": "stream",
     "text": [
      "   Country    Capital  Population\n",
      "0  Belgium   Brussels    11190846\n",
      "1    India  New Delhi  1303171035\n",
      "2   Brazil   Brasília   207847528\n",
      "Belgium\n",
      "Belgium\n"
     ]
    }
   ],
   "source": [
    "# creation\n",
    "import pandas as pd\n",
    "data = {'Country': ['Belgium', 'India', 'Brazil'],\n",
    "'Capital': ['Brussels', 'New Delhi', 'Brasília'],\n",
    "'Population': [11190846, 1303171035, 207847528]}\n",
    "\n",
    "df = pd.DataFrame(data,columns=['Country', 'Capital', 'Population'])\n",
    "print(df)\n",
    "print(df.iat[0, 0])\n",
    "print(df.at[0, 'Country'])\n"
   ]
  },
  {
   "cell_type": "code",
   "execution_count": 27,
   "metadata": {
    "colab": {
     "base_uri": "https://localhost:8080/"
    },
    "id": "P7LhEKbeJL6X",
    "outputId": "d0e6d457-e3fb-4555-9a40-ae61809d9093"
   },
   "outputs": [
    {
     "name": "stdout",
     "output_type": "stream",
     "text": [
      "   one  two\n",
      "a  1.0    1\n",
      "b  2.0    2\n",
      "c  3.0    3\n",
      "d  NaN    4\n",
      "one    2.0\n",
      "two    2.0\n",
      "Name: b, dtype: float64\n",
      "one    3.0\n",
      "two    3.0\n",
      "Name: c, dtype: float64\n",
      "   one  two\n",
      "c  3.0    3\n",
      "d  NaN    4\n",
      "------\n",
      "   one  two\n",
      "a  1.0    1\n",
      "------\n",
      "   one  two    a    b\n",
      "a  1.0  1.0  NaN  NaN\n",
      "b  2.0  2.0  NaN  NaN\n",
      "c  3.0  3.0  NaN  NaN\n",
      "d  NaN  4.0  NaN  NaN\n",
      "0  NaN  NaN  5.0  6.0\n",
      "1  NaN  NaN  7.0  8.0\n"
     ]
    }
   ],
   "source": [
    "d = {'one' : pd.Series([1, 2, 3], index=['a', 'b', 'c']),'two' : pd.Series([1, 2, 3, 4], index=['a', 'b', 'c', 'd'])}\n",
    "df = pd.DataFrame(d)\n",
    "print(df)\n",
    "\n",
    "# Row Selection (Selection by Label)\n",
    "print(df.loc['b'])\n",
    "\n",
    "# Selection by integer location\n",
    "print(df.iloc[2])\n",
    "\n",
    "print(df[2:4])\n",
    "print('------')\n",
    "print(df[0:1][0:1])\n",
    "print('------')\n"
   ]
  },
  {
   "cell_type": "code",
   "execution_count": 32,
   "metadata": {
    "colab": {
     "base_uri": "https://localhost:8080/"
    },
    "id": "iRRkKTm4AgvG",
    "outputId": "b962470d-5acc-4af3-ff21-6cf6266df15f"
   },
   "outputs": [
    {
     "name": "stdout",
     "output_type": "stream",
     "text": [
      "   one  two\n",
      "a  1.0    1\n",
      "b  2.0    2\n",
      "c  3.0    3\n",
      "d  NaN    4\n",
      "   one  two    a    b\n",
      "a  1.0  1.0  NaN  NaN\n",
      "b  2.0  2.0  NaN  NaN\n",
      "c  3.0  3.0  NaN  NaN\n",
      "d  NaN  4.0  NaN  NaN\n",
      "0  NaN  NaN  5.0  6.0\n",
      "1  NaN  NaN  7.0  8.0\n"
     ]
    }
   ],
   "source": [
    "# arithmatic operations\n",
    "d = {'one' : pd.Series([1, 2, 3], index=['a', 'b', 'c']),'two' : pd.Series([1, 2, 3, 4], index=['a', 'b', 'c', 'd'])}\n",
    "df = pd.DataFrame(d)\n",
    "print(df)\n",
    "\n",
    "df2 = pd.DataFrame([[5, 6], [7, 8]], columns = ['a','b'])\n",
    "df = df.append(df2)\n",
    "print(df)"
   ]
  },
  {
   "cell_type": "code",
   "execution_count": 38,
   "metadata": {
    "colab": {
     "base_uri": "https://localhost:8080/"
    },
    "id": "TSBfrJ-HJL6Y",
    "outputId": "5084c8ed-087f-4c1a-ae37-590330c3f04d"
   },
   "outputs": [
    {
     "name": "stdout",
     "output_type": "stream",
     "text": [
      "   one  two  three  four\n",
      "a  1.0    1   10.0  11.0\n",
      "b  2.0    2   20.0  22.0\n",
      "c  3.0    3   30.0  33.0\n",
      "d  NaN    4    NaN   NaN\n",
      "   one  two  three  four\n",
      "a  1.0    1   10.0  11.0\n",
      "c  3.0    3   30.0  33.0\n",
      "d  NaN    4    NaN   NaN\n"
     ]
    }
   ],
   "source": [
    "# deletion of Rows\n",
    "d = {'one' : pd.Series([1, 2, 3], index=['a', 'b', 'c']),'two' : pd.Series([1, 2, 3, 4], index=['a', 'b', 'c', 'd'])}\n",
    "df = pd.DataFrame(d)\n",
    "# Column Selection\n",
    "\n",
    "# Column Addition\n",
    "df['three']=pd.Series([10,20,30],index=['a','b','c'])\n",
    "df['four']=df['one']+df['three']\n",
    "print(df)\n",
    "df = df.drop(['b'])\n",
    "print(df)"
   ]
  },
  {
   "cell_type": "code",
   "execution_count": 50,
   "metadata": {
    "colab": {
     "base_uri": "https://localhost:8080/"
    },
    "id": "Xk7RPJktJL6Y",
    "outputId": "64f8d0c1-53fd-4942-e6eb-b02883320b8b"
   },
   "outputs": [
    {
     "name": "stdout",
     "output_type": "stream",
     "text": [
      "   one  two\n",
      "a  1.0    1\n",
      "b  2.0    2\n",
      "c  3.0    3\n",
      "d  NaN    4\n",
      "-------------\n",
      "[Index(['a', 'b', 'c', 'd'], dtype='object'), Index(['one', 'two'], dtype='object')]\n",
      "-------------\n",
      "one    float64\n",
      "two      int64\n",
      "dtype: object\n",
      "-------------\n",
      "False\n",
      "-------------\n",
      "2\n",
      "-------------\n",
      "   one  two\n",
      "a  1.0    1\n",
      "b  2.0    2\n",
      "c  3.0    3\n",
      "d  NaN    4\n",
      "-------------\n",
      "   one  two\n",
      "a  1.0    1\n",
      "b  2.0    2\n",
      "c  3.0    3\n",
      "d  NaN    4\n",
      "-------------\n",
      "[[ 1.  1.]\n",
      " [ 2.  2.]\n",
      " [ 3.  3.]\n",
      " [nan  4.]]\n",
      "-------------\n",
      "(4, 2)\n",
      "-------------\n",
      "8\n",
      "-------------\n"
     ]
    }
   ],
   "source": [
    "# properties\n",
    "d = {'one' : pd.Series([1, 2, 3], index=['a', 'b', 'c']),'two' : pd.Series([1, 2, 3, 4], index=['a', 'b', 'c', 'd'])}\n",
    "df = pd.DataFrame(d)\n",
    "print(df)\n",
    "print('-------------')\n",
    "print(df.axes)    \n",
    "print('-------------')\n",
    "print(df.dtypes)\n",
    "print('-------------')\n",
    "print(df.empty)\n",
    "print('-------------')\n",
    "print(df.ndim)\n",
    "print('-------------')\n",
    "print(df.head())\n",
    "print('-------------')\n",
    "print(df.tail())\n",
    "print('-------------')\n",
    "print(df.values)\n",
    "print('-------------')\n",
    "print(df.shape)\n",
    "print('-------------')\n",
    "print(df.size)\n",
    "print('-------------')\n"
   ]
  },
  {
   "cell_type": "code",
   "execution_count": 11,
   "metadata": {
    "colab": {
     "base_uri": "https://localhost:8080/"
    },
    "id": "u4e-zvAdJL6Z",
    "outputId": "5c1df4fa-b157-44fd-ec44-374bb7f62e04"
   },
   "outputs": [
    {
     "name": "stdout",
     "output_type": "stream",
     "text": [
      "   one  two  three  four\n",
      "a  2.0    1   10.0  12.0\n",
      "b  3.0    2   20.0  23.0\n",
      "c  3.0    3   30.0  33.0\n",
      "d  NaN    4    NaN   NaN\n",
      "------count---axis=0----\n",
      "one      3\n",
      "two      4\n",
      "three    3\n",
      "four     3\n",
      "dtype: int64\n",
      "------count---axis=1----\n",
      "a    4\n",
      "b    4\n",
      "c    4\n",
      "d    1\n",
      "dtype: int64\n",
      "------sum-------\n",
      "one       8.0\n",
      "two      10.0\n",
      "three    60.0\n",
      "four     68.0\n",
      "dtype: float64\n",
      "-----mean--------\n",
      "one       2.666667\n",
      "two       2.500000\n",
      "three    20.000000\n",
      "four     22.666667\n",
      "dtype: float64\n",
      "-----median--------\n",
      "one       3.0\n",
      "two       2.5\n",
      "three    20.0\n",
      "four     23.0\n",
      "dtype: float64\n",
      "-----mode--------\n",
      "0    3.0\n",
      "dtype: float64\n",
      "------std-------\n",
      "one       0.577350\n",
      "two       1.290994\n",
      "three    10.000000\n",
      "four     10.503968\n",
      "dtype: float64\n",
      "------min-------\n",
      "one       2.0\n",
      "two       1.0\n",
      "three    10.0\n",
      "four     12.0\n",
      "dtype: float64\n",
      "-------max------\n",
      "one       3.0\n",
      "two       4.0\n",
      "three    30.0\n",
      "four     33.0\n",
      "dtype: float64\n",
      "------abs-------\n",
      "   one  two  three  four\n",
      "a  2.0    1   10.0  12.0\n",
      "b  3.0    2   20.0  23.0\n",
      "c  3.0    3   30.0  33.0\n",
      "d  NaN    4    NaN   NaN\n",
      "------prod-------\n",
      "one        18.0\n",
      "two        24.0\n",
      "three    6000.0\n",
      "four     9108.0\n",
      "dtype: float64\n",
      "------cumsum-------\n",
      "   one  two  three  four\n",
      "a  2.0    1   10.0  12.0\n",
      "b  5.0    3   30.0  35.0\n",
      "c  8.0    6   60.0  68.0\n",
      "d  NaN   10    NaN   NaN\n",
      "------cumprod-------\n",
      "    one  two   three    four\n",
      "a   2.0    1    10.0    12.0\n",
      "b   6.0    2   200.0   276.0\n",
      "c  18.0    6  6000.0  9108.0\n",
      "d   NaN   24     NaN     NaN\n",
      "------describe-------\n",
      "            one       two  three       four\n",
      "count  3.000000  4.000000    3.0   3.000000\n",
      "mean   2.666667  2.500000   20.0  22.666667\n",
      "std    0.577350  1.290994   10.0  10.503968\n",
      "min    2.000000  1.000000   10.0  12.000000\n",
      "25%    2.500000  1.750000   15.0  17.500000\n",
      "50%    3.000000  2.500000   20.0  23.000000\n",
      "75%    3.000000  3.250000   25.0  28.000000\n",
      "max    3.000000  4.000000   30.0  33.000000\n",
      "-------------\n"
     ]
    }
   ],
   "source": [
    "# Summary\n",
    "d = {'one' : pd.Series([2, 3, 3], index=['a', 'b', 'c']),'two' : pd.Series([1, 2, 3, 4], index=['a', 'b', 'c', 'd'])}\n",
    "df = pd.DataFrame(d)\n",
    "\n",
    "df['three']=pd.Series([10,20,30],index=['a','b','c'])\n",
    "df['four']=df['one']+df['three']\n",
    "print(df)\n",
    "print('------count---axis=0----')\n",
    "print(df.count(axis=0))\n",
    "print('------count---axis=1----')\n",
    "print(df.count(axis=1))\n",
    "print('------sum-------')\n",
    "print(df.sum())\n",
    "print('-----mean--------')\n",
    "print(df.mean())\n",
    "print('-----median--------')\n",
    "print(df.median())\n",
    "print('-----mode--------')\n",
    "print(df['one'].mode())\n",
    "print('------std-------')\n",
    "print(df.std())\n",
    "print('------min-------')\n",
    "print(df.min())\n",
    "print('-------max------')\n",
    "print(df.max())\n",
    "print('------abs-------')\n",
    "print(df.abs())\n",
    "print('------prod-------')\n",
    "print(df.prod())\n",
    "print('------cumsum-------')\n",
    "print(df.cumsum())\n",
    "print('------cumprod-------')\n",
    "print(df.cumprod())\n",
    "print('------describe-------')\n",
    "print(df.describe())\n",
    "print('-------------')\n"
   ]
  },
  {
   "cell_type": "code",
   "execution_count": 2,
   "metadata": {
    "colab": {
     "base_uri": "https://localhost:8080/"
    },
    "id": "B6cRBwYUe4lM",
    "outputId": "e3537545-95e7-40d5-d183-cc94ea89d32a"
   },
   "outputs": [
    {
     "ename": "NameError",
     "evalue": "name 'pd' is not defined",
     "output_type": "error",
     "traceback": [
      "\u001b[1;31m---------------------------------------------------------------------------\u001b[0m",
      "\u001b[1;31mNameError\u001b[0m                                 Traceback (most recent call last)",
      "\u001b[1;32m<ipython-input-2-f64b5af6c884>\u001b[0m in \u001b[0;36m<module>\u001b[1;34m\u001b[0m\n\u001b[0;32m      1\u001b[0m \u001b[1;31m# arithematic operations\u001b[0m\u001b[1;33m\u001b[0m\u001b[1;33m\u001b[0m\u001b[1;33m\u001b[0m\u001b[0m\n\u001b[1;32m----> 2\u001b[1;33m \u001b[0ms\u001b[0m \u001b[1;33m=\u001b[0m \u001b[0mpd\u001b[0m\u001b[1;33m.\u001b[0m\u001b[0mSeries\u001b[0m\u001b[1;33m(\u001b[0m\u001b[1;33m[\u001b[0m\u001b[1;36m3\u001b[0m\u001b[1;33m,\u001b[0m \u001b[1;33m-\u001b[0m\u001b[1;36m5\u001b[0m\u001b[1;33m,\u001b[0m \u001b[1;36m7\u001b[0m\u001b[1;33m,\u001b[0m \u001b[1;36m4\u001b[0m\u001b[1;33m]\u001b[0m\u001b[1;33m,\u001b[0m \u001b[0mindex\u001b[0m\u001b[1;33m=\u001b[0m\u001b[1;33m[\u001b[0m\u001b[1;34m'a'\u001b[0m\u001b[1;33m,\u001b[0m \u001b[1;34m'b'\u001b[0m\u001b[1;33m,\u001b[0m \u001b[1;34m'c'\u001b[0m\u001b[1;33m,\u001b[0m \u001b[1;34m'd'\u001b[0m\u001b[1;33m]\u001b[0m\u001b[1;33m)\u001b[0m\u001b[1;33m\u001b[0m\u001b[1;33m\u001b[0m\u001b[0m\n\u001b[0m\u001b[0;32m      3\u001b[0m \u001b[0ms3\u001b[0m \u001b[1;33m=\u001b[0m \u001b[0mpd\u001b[0m\u001b[1;33m.\u001b[0m\u001b[0mSeries\u001b[0m\u001b[1;33m(\u001b[0m\u001b[1;33m[\u001b[0m\u001b[1;36m7\u001b[0m\u001b[1;33m,\u001b[0m \u001b[1;33m-\u001b[0m\u001b[1;36m2\u001b[0m\u001b[1;33m,\u001b[0m \u001b[1;36m3\u001b[0m\u001b[1;33m]\u001b[0m\u001b[1;33m,\u001b[0m \u001b[0mindex\u001b[0m\u001b[1;33m=\u001b[0m\u001b[1;33m[\u001b[0m\u001b[1;34m'a'\u001b[0m\u001b[1;33m,\u001b[0m \u001b[1;34m'c'\u001b[0m\u001b[1;33m,\u001b[0m \u001b[1;34m'd'\u001b[0m\u001b[1;33m]\u001b[0m\u001b[1;33m)\u001b[0m\u001b[1;33m\u001b[0m\u001b[1;33m\u001b[0m\u001b[0m\n\u001b[0;32m      4\u001b[0m \u001b[0mprint\u001b[0m\u001b[1;33m(\u001b[0m\u001b[0ms\u001b[0m\u001b[1;33m)\u001b[0m\u001b[1;33m\u001b[0m\u001b[1;33m\u001b[0m\u001b[0m\n\u001b[0;32m      5\u001b[0m \u001b[0mprint\u001b[0m\u001b[1;33m(\u001b[0m\u001b[0ms3\u001b[0m\u001b[1;33m)\u001b[0m\u001b[1;33m\u001b[0m\u001b[1;33m\u001b[0m\u001b[0m\n",
      "\u001b[1;31mNameError\u001b[0m: name 'pd' is not defined"
     ]
    }
   ],
   "source": [
    "# arithematic operations\n",
    "s = pd.Series([3, -5, 7, 4], index=['a', 'b', 'c', 'd'])\n",
    "s3 = pd.Series([7, -2, 3], index=['a', 'c', 'd'])\n",
    "print(s)\n",
    "print(s3)\n",
    "print('------add----')\n",
    "print(s+s3)\n",
    "print(s.add(s3, fill_value=0))\n",
    "\n",
    "print('------sub----')\n",
    "print(s-s3)\n",
    "print(s.sub(s3, fill_value=2))\n",
    "\n",
    "print('------multiply----')\n",
    "print(s*s3)\n",
    "print(s.mul(s3, fill_value=4))\n",
    "\n",
    "print('------div----')\n",
    "print(s/s3)\n",
    "print(s.div(s3, fill_value=3))\n",
    "\n",
    "print('----------')\n"
   ]
  },
  {
   "cell_type": "code",
   "execution_count": 13,
   "metadata": {
    "colab": {
     "base_uri": "https://localhost:8080/"
    },
    "id": "GexXpvXtJL6Z",
    "outputId": "29f38399-e641-4f3d-8a70-95f207a167d6"
   },
   "outputs": [
    {
     "name": "stdout",
     "output_type": "stream",
     "text": [
      "   one  two  three  four\n",
      "a  1.0    1   10.0  11.0\n",
      "b  2.0    2   20.0  22.0\n",
      "c  3.0    3   30.0  33.0\n",
      "d  NaN    4    NaN   NaN\n",
      "------pipe--------\n",
      "   one  two  three  four\n",
      "a  3.0    3   12.0  13.0\n",
      "b  4.0    4   22.0  24.0\n",
      "c  5.0    5   32.0  35.0\n",
      "d  NaN    6    NaN   NaN\n",
      "--------np.mean---------\n",
      "one       2.0\n",
      "two       2.5\n",
      "three    20.0\n",
      "four     22.0\n",
      "dtype: float64\n",
      "--------np.mean-----axis=1----\n",
      "a     5.75\n",
      "b    11.50\n",
      "c    17.25\n",
      "d     4.00\n",
      "dtype: float64\n",
      "-----apply---------\n",
      "   one  two  three  four\n",
      "a  2.0    2   20.0  22.0\n",
      "b  4.0    4   40.0  44.0\n",
      "c  6.0    6   60.0  66.0\n",
      "d  NaN    8    NaN   NaN\n",
      "------applymap-------\n",
      "   one  two  three  four\n",
      "a  2.0    2   20.0  22.0\n",
      "b  4.0    4   40.0  44.0\n",
      "c  6.0    6   60.0  66.0\n",
      "d  NaN    8    NaN   NaN\n"
     ]
    }
   ],
   "source": [
    "# Table wise Function Application: pipe()\n",
    "# Row or Column Wise Function Application: apply()\n",
    "# Element wise Function Application: applymap()\n",
    "# A lambda function is a small anonymous function. A lambda function can take any number of arguments, but can only have one expression.\n",
    "\n",
    "import numpy as np\n",
    "\n",
    "d = {'one' : pd.Series([1, 2, 3], index=['a', 'b', 'c']),'two' : pd.Series([1, 2, 3, 4], index=['a', 'b', 'c', 'd'])}\n",
    "df = pd.DataFrame(d)\n",
    "\n",
    "df['three']=pd.Series([10,20,30],index=['a','b','c'])\n",
    "df['four']=df['one']+df['three']\n",
    "print(df)\n",
    "\n",
    "def adder(ele1,ele2):\n",
    "   return ele1+ele2\n",
    "\n",
    "# del df['A']\n",
    "# del df['B']\n",
    "print('------pipe--------')\n",
    "print(df.pipe(adder,2))\n",
    "print('--------np.mean---------')\n",
    "print(df.apply(np.mean))\n",
    "print('--------np.mean-----axis=1----')\n",
    "print(df.apply(np.mean, axis=1))\n",
    "print('-----apply---------')\n",
    "f = lambda x: x*2\n",
    "print(df.apply(f))\n",
    "print('------applymap-------')\n",
    "print(df.applymap(f))"
   ]
  },
  {
   "cell_type": "code",
   "execution_count": 69,
   "metadata": {
    "colab": {
     "base_uri": "https://localhost:8080/"
    },
    "id": "kLpW_nJmJL6Z",
    "outputId": "9353ae21-11e7-40c6-876a-cf3da057d7f6"
   },
   "outputs": [
    {
     "name": "stdout",
     "output_type": "stream",
     "text": [
      "A\n",
      "x\n",
      "y\n",
      "C\n",
      "D\n",
      "------------------\n",
      "('A', 0    2016-01-01\n",
      "1    2016-01-02\n",
      "2    2016-01-03\n",
      "3    2016-01-04\n",
      "4    2016-01-05\n",
      "5    2016-01-06\n",
      "6    2016-01-07\n",
      "7    2016-01-08\n",
      "8    2016-01-09\n",
      "9    2016-01-10\n",
      "10   2016-01-11\n",
      "11   2016-01-12\n",
      "12   2016-01-13\n",
      "13   2016-01-14\n",
      "14   2016-01-15\n",
      "15   2016-01-16\n",
      "16   2016-01-17\n",
      "17   2016-01-18\n",
      "18   2016-01-19\n",
      "19   2016-01-20\n",
      "Name: A, dtype: datetime64[ns])\n",
      "('x', 0      0.0\n",
      "1      1.0\n",
      "2      2.0\n",
      "3      3.0\n",
      "4      4.0\n",
      "5      5.0\n",
      "6      6.0\n",
      "7      7.0\n",
      "8      8.0\n",
      "9      9.0\n",
      "10    10.0\n",
      "11    11.0\n",
      "12    12.0\n",
      "13    13.0\n",
      "14    14.0\n",
      "15    15.0\n",
      "16    16.0\n",
      "17    17.0\n",
      "18    18.0\n",
      "19    19.0\n",
      "Name: x, dtype: float64)\n",
      "('y', 0     0.570227\n",
      "1     0.951877\n",
      "2     0.839855\n",
      "3     0.384029\n",
      "4     0.197960\n",
      "5     0.058867\n",
      "6     0.646308\n",
      "7     0.765181\n",
      "8     0.841525\n",
      "9     0.336784\n",
      "10    0.340009\n",
      "11    0.754767\n",
      "12    0.121677\n",
      "13    0.857607\n",
      "14    0.814169\n",
      "15    0.291559\n",
      "16    0.893517\n",
      "17    0.375545\n",
      "18    0.702507\n",
      "19    0.442246\n",
      "Name: y, dtype: float64)\n",
      "('C', 0       High\n",
      "1        Low\n",
      "2        Low\n",
      "3       High\n",
      "4       High\n",
      "5       High\n",
      "6       High\n",
      "7     Medium\n",
      "8        Low\n",
      "9        Low\n",
      "10    Medium\n",
      "11    Medium\n",
      "12      High\n",
      "13      High\n",
      "14      High\n",
      "15      High\n",
      "16      High\n",
      "17       Low\n",
      "18      High\n",
      "19      High\n",
      "Name: C, dtype: object)\n",
      "('D', 0     116.418362\n",
      "1      89.097828\n",
      "2     105.313599\n",
      "3      81.581802\n",
      "4     110.036470\n",
      "5     106.926677\n",
      "6      92.645505\n",
      "7      90.256031\n",
      "8     119.158417\n",
      "9      94.308690\n",
      "10     90.258431\n",
      "11     97.369182\n",
      "12    105.534668\n",
      "13    108.209684\n",
      "14     93.606089\n",
      "15    108.477277\n",
      "16    115.842123\n",
      "17    100.510465\n",
      "18    107.650952\n",
      "19    109.018011\n",
      "Name: D, dtype: float64)\n",
      "------------------\n",
      "(0, A    2016-01-01 00:00:00\n",
      "x                    0.0\n",
      "y               0.570227\n",
      "C                   High\n",
      "D             116.418362\n",
      "Name: 0, dtype: object)\n",
      "(1, A    2016-01-02 00:00:00\n",
      "x                    1.0\n",
      "y               0.951877\n",
      "C                    Low\n",
      "D              89.097828\n",
      "Name: 1, dtype: object)\n",
      "(2, A    2016-01-03 00:00:00\n",
      "x                    2.0\n",
      "y               0.839855\n",
      "C                    Low\n",
      "D             105.313599\n",
      "Name: 2, dtype: object)\n",
      "(3, A    2016-01-04 00:00:00\n",
      "x                    3.0\n",
      "y               0.384029\n",
      "C                   High\n",
      "D              81.581802\n",
      "Name: 3, dtype: object)\n",
      "(4, A    2016-01-05 00:00:00\n",
      "x                    4.0\n",
      "y                0.19796\n",
      "C                   High\n",
      "D              110.03647\n",
      "Name: 4, dtype: object)\n",
      "(5, A    2016-01-06 00:00:00\n",
      "x                    5.0\n",
      "y               0.058867\n",
      "C                   High\n",
      "D             106.926677\n",
      "Name: 5, dtype: object)\n",
      "(6, A    2016-01-07 00:00:00\n",
      "x                    6.0\n",
      "y               0.646308\n",
      "C                   High\n",
      "D              92.645505\n",
      "Name: 6, dtype: object)\n",
      "(7, A    2016-01-08 00:00:00\n",
      "x                    7.0\n",
      "y               0.765181\n",
      "C                 Medium\n",
      "D              90.256031\n",
      "Name: 7, dtype: object)\n",
      "(8, A    2016-01-09 00:00:00\n",
      "x                    8.0\n",
      "y               0.841525\n",
      "C                    Low\n",
      "D             119.158417\n",
      "Name: 8, dtype: object)\n",
      "(9, A    2016-01-10 00:00:00\n",
      "x                    9.0\n",
      "y               0.336784\n",
      "C                    Low\n",
      "D               94.30869\n",
      "Name: 9, dtype: object)\n",
      "(10, A    2016-01-11 00:00:00\n",
      "x                   10.0\n",
      "y               0.340009\n",
      "C                 Medium\n",
      "D              90.258431\n",
      "Name: 10, dtype: object)\n",
      "(11, A    2016-01-12 00:00:00\n",
      "x                   11.0\n",
      "y               0.754767\n",
      "C                 Medium\n",
      "D              97.369182\n",
      "Name: 11, dtype: object)\n",
      "(12, A    2016-01-13 00:00:00\n",
      "x                   12.0\n",
      "y               0.121677\n",
      "C                   High\n",
      "D             105.534668\n",
      "Name: 12, dtype: object)\n",
      "(13, A    2016-01-14 00:00:00\n",
      "x                   13.0\n",
      "y               0.857607\n",
      "C                   High\n",
      "D             108.209684\n",
      "Name: 13, dtype: object)\n",
      "(14, A    2016-01-15 00:00:00\n",
      "x                   14.0\n",
      "y               0.814169\n",
      "C                   High\n",
      "D              93.606089\n",
      "Name: 14, dtype: object)\n",
      "(15, A    2016-01-16 00:00:00\n",
      "x                   15.0\n",
      "y               0.291559\n",
      "C                   High\n",
      "D             108.477277\n",
      "Name: 15, dtype: object)\n",
      "(16, A    2016-01-17 00:00:00\n",
      "x                   16.0\n",
      "y               0.893517\n",
      "C                   High\n",
      "D             115.842123\n",
      "Name: 16, dtype: object)\n",
      "(17, A    2016-01-18 00:00:00\n",
      "x                   17.0\n",
      "y               0.375545\n",
      "C                    Low\n",
      "D             100.510465\n",
      "Name: 17, dtype: object)\n",
      "(18, A    2016-01-19 00:00:00\n",
      "x                   18.0\n",
      "y               0.702507\n",
      "C                   High\n",
      "D             107.650952\n",
      "Name: 18, dtype: object)\n",
      "(19, A    2016-01-20 00:00:00\n",
      "x                   19.0\n",
      "y               0.442246\n",
      "C                   High\n",
      "D             109.018011\n",
      "Name: 19, dtype: object)\n",
      "------------------\n",
      "Pandas(Index=0, A=Timestamp('2016-01-01 00:00:00'), x=0.0, y=0.5702265915976161, C='High', D=116.41836180338152)\n",
      "Pandas(Index=1, A=Timestamp('2016-01-02 00:00:00'), x=1.0, y=0.9518774897149552, C='Low', D=89.09782813693651)\n",
      "Pandas(Index=2, A=Timestamp('2016-01-03 00:00:00'), x=2.0, y=0.8398545072233373, C='Low', D=105.31359893874941)\n",
      "Pandas(Index=3, A=Timestamp('2016-01-04 00:00:00'), x=3.0, y=0.3840288201438212, C='High', D=81.58180223098614)\n",
      "Pandas(Index=4, A=Timestamp('2016-01-05 00:00:00'), x=4.0, y=0.19796002160129722, C='High', D=110.0364703403086)\n",
      "Pandas(Index=5, A=Timestamp('2016-01-06 00:00:00'), x=5.0, y=0.05886723378029168, C='High', D=106.92667676786192)\n",
      "Pandas(Index=6, A=Timestamp('2016-01-07 00:00:00'), x=6.0, y=0.6463075588912135, C='High', D=92.64550512766847)\n",
      "Pandas(Index=7, A=Timestamp('2016-01-08 00:00:00'), x=7.0, y=0.76518119658577, C='Medium', D=90.25603113469366)\n",
      "Pandas(Index=8, A=Timestamp('2016-01-09 00:00:00'), x=8.0, y=0.8415252624167702, C='Low', D=119.1584169707956)\n",
      "Pandas(Index=9, A=Timestamp('2016-01-10 00:00:00'), x=9.0, y=0.33678350652187306, C='Low', D=94.3086899915067)\n",
      "Pandas(Index=10, A=Timestamp('2016-01-11 00:00:00'), x=10.0, y=0.3400085255918279, C='Medium', D=90.2584309627122)\n",
      "Pandas(Index=11, A=Timestamp('2016-01-12 00:00:00'), x=11.0, y=0.7547666042132257, C='Medium', D=97.36918160274699)\n",
      "Pandas(Index=12, A=Timestamp('2016-01-13 00:00:00'), x=12.0, y=0.12167720749856747, C='High', D=105.53466799671078)\n",
      "Pandas(Index=13, A=Timestamp('2016-01-14 00:00:00'), x=13.0, y=0.8576074761924585, C='High', D=108.20968419836683)\n",
      "Pandas(Index=14, A=Timestamp('2016-01-15 00:00:00'), x=14.0, y=0.8141690308433842, C='High', D=93.60608904468462)\n",
      "Pandas(Index=15, A=Timestamp('2016-01-16 00:00:00'), x=15.0, y=0.29155855408393283, C='High', D=108.47727653956957)\n",
      "Pandas(Index=16, A=Timestamp('2016-01-17 00:00:00'), x=16.0, y=0.8935166173953799, C='High', D=115.84212257816745)\n",
      "Pandas(Index=17, A=Timestamp('2016-01-18 00:00:00'), x=17.0, y=0.3755447161706147, C='Low', D=100.51046488891522)\n",
      "Pandas(Index=18, A=Timestamp('2016-01-19 00:00:00'), x=18.0, y=0.7025072169017238, C='High', D=107.65095181278107)\n",
      "Pandas(Index=19, A=Timestamp('2016-01-20 00:00:00'), x=19.0, y=0.4422460846077101, C='High', D=109.0180111034501)\n",
      "------------------\n"
     ]
    }
   ],
   "source": [
    "import numpy as np\n",
    "import pandas as pd\n",
    "# Reindexing changes the row labels and column labels of a DataFrame. \n",
    "\n",
    "\n",
    "# By default Iterating a DataFrame gives column names.\n",
    "# iteritems() − to iterate over the (key,value) pairs\n",
    "# iterrows() − iterate over the rows as (index,series) pairs\n",
    "# itertuples() − iterate over the rows as namedtuples\n",
    "\n",
    "N=20\n",
    "df1 = pd.DataFrame({\n",
    "   'A': pd.date_range(start='2016-01-01',periods=N,freq='D'),\n",
    "   'x': np.linspace(0,stop=N-1,num=N),\n",
    "   'y': np.random.rand(N),\n",
    "   'C': np.random.choice(['Low','Medium','High'],N).tolist(),\n",
    "   'D': np.random.normal(100, 10, size=(N)).tolist()\n",
    "   })\n",
    "\n",
    "for col in df1:\n",
    "   print(col)\n",
    "print('------------------')\n",
    "for item in df1.iteritems():\n",
    "  print(item)\n",
    "print('------------------')\n",
    "for row in df1.iterrows():\n",
    "  print(row)\n",
    "print('------------------')\n",
    "for tuples in df1.itertuples():\n",
    "  print(tuples)\n",
    "print('------------------')"
   ]
  },
  {
   "cell_type": "code",
   "execution_count": 72,
   "metadata": {
    "colab": {
     "base_uri": "https://localhost:8080/"
    },
    "id": "I4cW2eZoJL6a",
    "outputId": "54c429cd-509e-4763-b11b-035010158f4e"
   },
   "outputs": [
    {
     "name": "stdout",
     "output_type": "stream",
     "text": [
      "       col2      col1\n",
      "1 -0.419474  0.533530\n",
      "4  0.330189  0.447051\n",
      "6  1.724424  1.597193\n",
      "2  0.320542 -0.157476\n",
      "3  0.821870 -1.035625\n",
      "5 -0.035508  3.448606\n",
      "9 -1.245977  0.765479\n",
      "8  0.753762  0.003371\n",
      "0  1.507403  0.063982\n",
      "7 -0.580154  1.173036\n",
      "------------------\n",
      "       col2      col1\n",
      "0  1.507403  0.063982\n",
      "1 -0.419474  0.533530\n",
      "2  0.320542 -0.157476\n",
      "3  0.821870 -1.035625\n",
      "4  0.330189  0.447051\n",
      "5 -0.035508  3.448606\n",
      "6  1.724424  1.597193\n",
      "7 -0.580154  1.173036\n",
      "8  0.753762  0.003371\n",
      "9 -1.245977  0.765479\n",
      "------------------\n",
      "       col2      col1\n",
      "3  0.821870 -1.035625\n",
      "2  0.320542 -0.157476\n",
      "8  0.753762  0.003371\n",
      "0  1.507403  0.063982\n",
      "4  0.330189  0.447051\n",
      "1 -0.419474  0.533530\n",
      "9 -1.245977  0.765479\n",
      "7 -0.580154  1.173036\n",
      "6  1.724424  1.597193\n",
      "5 -0.035508  3.448606\n"
     ]
    }
   ],
   "source": [
    "# sorting\n",
    "\n",
    "import pandas as pd\n",
    "import numpy as np\n",
    "\n",
    "unsorted_df=pd.DataFrame(np.random.randn(10,2),index=[1,4,6,2,3,5,9,8,0,7],columns=['col2','col1'])\n",
    "print(unsorted_df)\n",
    "print('------------------')\n",
    "sorted_df=unsorted_df.sort_index()\n",
    "print(sorted_df)\n",
    "print('------------------')\n",
    "sorted_df = unsorted_df.sort_values(by='col1')\n",
    "print(sorted_df)"
   ]
  },
  {
   "cell_type": "code",
   "execution_count": null,
   "metadata": {
    "id": "-n-OgyoYJL6a"
   },
   "outputs": [],
   "source": [
    "# Pandas provide few variants like rolling, expanding and exponentially moving weights for window statistics.\n",
    "# Aggregations: r[['A','B']].aggregate([np.sum,np.mean])\n",
    "\n",
    "# obj.groupby('key')\n",
    "# obj.groupby(['key1','key2'])\n",
    "# obj.groupby(key,axis=1)\n",
    "\n",
    "# Pandas provides a single function, merge, as the entry point for all standard database join operations\n",
    "# pd.merge(left, right, how='inner', on=None, left_on=None, right_on=None,left_index=False, right_index=False, sort=True)\n",
    "\n",
    "# Pandas provides various facilities for easily combining together Series, DataFrame, and Panel objects\n",
    "# pd.concat(objs,axis=0,join='outer',join_axes=None,ignore_index=False)\n",
    "\n"
   ]
  },
  {
   "cell_type": "code",
   "execution_count": 77,
   "metadata": {
    "colab": {
     "base_uri": "https://localhost:8080/"
    },
    "id": "NGjVjSfJqpdz",
    "outputId": "1e0c75b9-3484-4159-cb8f-b4826c9202d6"
   },
   "outputs": [
    {
     "name": "stdout",
     "output_type": "stream",
     "text": [
      "   foo bar  baz zoo\n",
      "0  one   A    1   x\n",
      "1  one   B    2   y\n",
      "2  one   C    3   z\n",
      "3  two   A    4   q\n",
      "4  two   B    5   w\n",
      "5  two   C    6   t\n",
      "-------------------------------------------------------------\n",
      "bar  A  B  C\n",
      "foo         \n",
      "one  1  2  3\n",
      "two  4  5  6\n",
      "-------------------------------------------------------------\n",
      "    baz       zoo      \n",
      "bar   A  B  C   A  B  C\n",
      "foo                    \n",
      "one   1  2  3   x  y  z\n",
      "two   4  5  6   q  w  t\n",
      "-------------------------------------------------------------\n"
     ]
    }
   ],
   "source": [
    "# pivot\n",
    "df = pd.DataFrame({'foo': ['one', 'one', 'one', 'two', 'two', 'two'],\n",
    "                    'bar': ['A', 'B', 'C', 'A', 'B', 'C'],\n",
    "                    'baz': [1, 2, 3, 4, 5, 6],\n",
    "                    'zoo': ['x', 'y', 'z', 'q', 'w', 't']})\n",
    "\n",
    "print(df)\n",
    "print('-------------------------------------------------------------')\n",
    "df1= df.pivot(index='foo', columns='bar', values='baz')\n",
    "print(df1)\n",
    "print('-------------------------------------------------------------')\n",
    "df2= df.pivot(index='foo', columns='bar', values=['baz', 'zoo'])\n",
    "print(df2)\n",
    "print('-------------------------------------------------------------')\n"
   ]
  },
  {
   "cell_type": "code",
   "execution_count": 79,
   "metadata": {
    "colab": {
     "base_uri": "https://localhost:8080/"
    },
    "id": "GO1ntzaCuIOg",
    "outputId": "e055db71-f72e-4b7e-db3d-0a0d17104699"
   },
   "outputs": [
    {
     "name": "stdout",
     "output_type": "stream",
     "text": [
      "   foo bar  baz zoo\n",
      "0  one   A    1   x\n",
      "1  one   B    2   y\n",
      "2  one   C    3   z\n",
      "3  two   A    4   q\n",
      "4  two   B    5   w\n",
      "5  two   C    6   t\n",
      "-------------------------------------------------------------\n",
      "0  foo    one\n",
      "   bar      A\n",
      "   baz      1\n",
      "   zoo      x\n",
      "1  foo    one\n",
      "   bar      B\n",
      "   baz      2\n",
      "   zoo      y\n",
      "2  foo    one\n",
      "   bar      C\n",
      "   baz      3\n",
      "   zoo      z\n",
      "3  foo    two\n",
      "   bar      A\n",
      "   baz      4\n",
      "   zoo      q\n",
      "4  foo    two\n",
      "   bar      B\n",
      "   baz      5\n",
      "   zoo      w\n",
      "5  foo    two\n",
      "   bar      C\n",
      "   baz      6\n",
      "   zoo      t\n",
      "dtype: object\n",
      "-------------------------------------------------------------\n",
      "   foo bar baz zoo\n",
      "0  one   A   1   x\n",
      "1  one   B   2   y\n",
      "2  one   C   3   z\n",
      "3  two   A   4   q\n",
      "4  two   B   5   w\n",
      "5  two   C   6   t\n",
      "-------------------------------------------------------------\n"
     ]
    }
   ],
   "source": [
    "# stack\n",
    "df = pd.DataFrame({'foo': ['one', 'one', 'one', 'two', 'two', 'two'],\n",
    "                    'bar': ['A', 'B', 'C', 'A', 'B', 'C'],\n",
    "                    'baz': [1, 2, 3, 4, 5, 6],\n",
    "                    'zoo': ['x', 'y', 'z', 'q', 'w', 't']})\n",
    "\n",
    "print(df)\n",
    "print('-------------------------------------------------------------')\n",
    "df1= df.stack()\n",
    "print(df1)\n",
    "print('-------------------------------------------------------------')\n",
    "df2 = df1.unstack()\n",
    "print(df2)\n",
    "print('-------------------------------------------------------------')\n"
   ]
  },
  {
   "cell_type": "code",
   "execution_count": 85,
   "metadata": {
    "colab": {
     "base_uri": "https://localhost:8080/"
    },
    "id": "WP0lu0xTu5fP",
    "outputId": "3fb32279-ed9f-492b-8776-bd53cf2cc4cc"
   },
   "outputs": [
    {
     "name": "stdout",
     "output_type": "stream",
     "text": [
      "   A  B  C\n",
      "0  a  1  2\n",
      "1  b  3  4\n",
      "2  c  5  6\n",
      "-------------------------------------------------------------\n",
      "   A variable  value\n",
      "0  a        B      1\n",
      "1  b        B      3\n",
      "2  c        B      5\n",
      "-------------------------------------------------------------\n",
      "   A variable  value\n",
      "0  a        B      1\n",
      "1  b        B      3\n",
      "2  c        B      5\n",
      "3  a        C      2\n",
      "4  b        C      4\n",
      "5  c        C      6\n",
      "-------------------------------------------------------------\n"
     ]
    }
   ],
   "source": [
    "# melt (Gather columns into rows)\n",
    "df = pd.DataFrame({'A': {0: 'a', 1: 'b', 2: 'c'},\n",
    "                    'B': {0: 1, 1: 3, 2: 5},\n",
    "                    'C': {0: 2, 1: 4, 2: 6}})\n",
    "\n",
    "\n",
    "print(df)\n",
    "print('-------------------------------------------------------------')\n",
    "df1= pd.melt(df, id_vars=['A'], value_vars=['B'], value_name='value')\n",
    "print(df1)\n",
    "print('-------------------------------------------------------------')\n",
    "df2 = pd.melt(df, id_vars=['A'], value_vars=['B', 'C'], value_name='value')\n",
    "print(df2)\n",
    "print('-------------------------------------------------------------')\n"
   ]
  },
  {
   "cell_type": "code",
   "execution_count": null,
   "metadata": {
    "id": "tAJxkhgfJL6b",
    "outputId": "b711f2e3-1f39-4a6d-dd05-32797a51768c"
   },
   "outputs": [
    {
     "data": {
      "text/plain": [
       "<AxesSubplot:>"
      ]
     },
     "execution_count": 56,
     "metadata": {},
     "output_type": "execute_result"
    },
    {
     "data": {
      "image/png": "[encoded data removed]",
      "text/plain": [
       "<Figure size 432x288 with 1 Axes>"
      ]
     },
     "metadata": {
      "needs_background": "light"
     },
     "output_type": "display_data"
    }
   ],
   "source": [
    "# plot\n",
    "import pandas as pd\n",
    "import numpy as np\n",
    "\n",
    "dfplot = pd.DataFrame(np.random.randn(10,4),index=pd.date_range('1/1/2000',periods=10), columns=list('ABCD'))\n",
    "dfplot.plot()\n"
   ]
  },
  {
   "cell_type": "code",
   "execution_count": null,
   "metadata": {
    "id": "H914ES6HJL6b"
   },
   "outputs": [],
   "source": [
    "# pandas.read_csv(filepath_or_buffer, sep=',', delimiter=None, header='infer',names=None, index_col=None, usecols=None"
   ]
  },
  {
   "cell_type": "code",
   "execution_count": 87,
   "metadata": {
    "colab": {
     "base_uri": "https://localhost:8080/"
    },
    "id": "B2yvFwSJJL6c",
    "outputId": "adff1ea0-f077-45f9-d562-994bbe68d6a8"
   },
   "outputs": [
    {
     "name": "stdout",
     "output_type": "stream",
     "text": [
      "---------------------------------------------------\n",
      "                   A         B         C         D\n",
      "2013-01-06  0.904201  1.362641  1.461760 -0.618071\n",
      "2013-01-05  0.969287  0.031151  0.076383 -0.225081\n",
      "2013-01-04  1.347335 -0.488119 -0.099210 -0.930914\n",
      "2013-01-03  0.749981  0.514980 -2.018850  0.460278\n",
      "2013-01-02  0.760477 -1.297232  0.834650 -2.439933\n",
      "2013-01-01  0.241376  0.270465 -0.941072 -1.176422\n",
      "---------------------------------------------------\n",
      "                   D         C         B         A\n",
      "2013-01-01 -1.176422 -0.941072  0.270465  0.241376\n",
      "2013-01-02 -2.439933  0.834650 -1.297232  0.760477\n",
      "2013-01-03  0.460278 -2.018850  0.514980  0.749981\n",
      "2013-01-04 -0.930914 -0.099210 -0.488119  1.347335\n",
      "2013-01-05 -0.225081  0.076383  0.031151  0.969287\n",
      "2013-01-06 -0.618071  1.461760  1.362641  0.904201\n",
      "---------------------------------------------------\n",
      "                   A         B         C         D\n",
      "2013-01-02  0.760477 -1.297232  0.834650 -2.439933\n",
      "2013-01-04  1.347335 -0.488119 -0.099210 -0.930914\n",
      "2013-01-05  0.969287  0.031151  0.076383 -0.225081\n",
      "2013-01-01  0.241376  0.270465 -0.941072 -1.176422\n",
      "2013-01-03  0.749981  0.514980 -2.018850  0.460278\n",
      "2013-01-06  0.904201  1.362641  1.461760 -0.618071\n"
     ]
    }
   ],
   "source": [
    "import numpy as np\n",
    "import pandas as pd\n",
    "\n",
    "dates = pd.date_range('20130101', periods=6)\n",
    "\n",
    "# help(pd.date_range)\n",
    "# pd can use date_range because of __init__.py\n",
    "#####################################################\n",
    "# Use __new__ when you need to control the creation of a new instance. \n",
    "# Use __init__ when you need to control initialization of a new instance.\n",
    "\n",
    "df = pd.DataFrame(np.random.randn(6, 4), index=dates, columns=list('ABCD'))\n",
    "\n",
    "print('---------------------------------------------------')\n",
    "print(df.sort_index(axis=0, ascending=False))\n",
    "print('---------------------------------------------------')\n",
    "print(df.sort_index(axis=1, ascending=False))\n",
    "print('---------------------------------------------------')\n",
    "print(df.sort_values(by='B'))"
   ]
  },
  {
   "cell_type": "code",
   "execution_count": 102,
   "metadata": {
    "colab": {
     "base_uri": "https://localhost:8080/"
    },
    "id": "KtdJ6I62JL6k",
    "outputId": "618194a9-37a5-487f-cc5c-d28ad0bfe7b6"
   },
   "outputs": [
    {
     "name": "stdout",
     "output_type": "stream",
     "text": [
      "  X1  X2\n",
      "0  a   1\n",
      "1  b   2\n",
      "2  c   3\n",
      "-----------------------------\n",
      "  X1  X3\n",
      "0  a   4\n",
      "1  b   5\n",
      "2  c   6\n",
      "-----------------------------\n",
      "  X1  X2  X3\n",
      "0  a   1   4\n",
      "1  b   2   5\n",
      "2  c   3   6\n",
      "-----------------------------\n",
      "  X1  X2  X3\n",
      "0  a   1   4\n",
      "1  b   2   5\n",
      "2  c   3   6\n",
      "-----------------------------\n",
      "  X1  X2  X3\n",
      "0  a   1   4\n",
      "1  b   2   5\n",
      "2  c   3   6\n",
      "-----------------------------\n",
      "  X1  X2  X3\n",
      "0  a   1   4\n",
      "1  b   2   5\n",
      "2  c   3   6\n"
     ]
    }
   ],
   "source": [
    "# merge\n",
    "data1 = pd.DataFrame({'X1': ['a', 'b', 'c'], 'X2': [1, 2, 3]})\n",
    "data2 = pd.DataFrame({'X1': ['a', 'b', 'c'], 'X3': [4, 5, 6]})\n",
    "print(data1)\n",
    "print('-----------------------------')\n",
    "print(data2)\n",
    "print('-----------------------------')\n",
    "print(pd.merge(data1,data2,how='left',on='X1'))\n",
    "print('-----------------------------')\n",
    "print(pd.merge(data1,data2,how='right',on='X1'))\n",
    "print('-----------------------------')\n",
    "print(pd.merge(data1,data2,how='inner',on='X1'))\n",
    "print('-----------------------------')\n",
    "print(pd.merge(data1,data2,how='outer',on='X1'))\n"
   ]
  },
  {
   "cell_type": "code",
   "execution_count": 104,
   "metadata": {
    "colab": {
     "base_uri": "https://localhost:8080/"
    },
    "id": "XY4wDHpQA_Ht",
    "outputId": "1e66f299-e137-4ef8-da37-19af28b16134"
   },
   "outputs": [
    {
     "name": "stdout",
     "output_type": "stream",
     "text": [
      "  X11  X2\n",
      "0   a   1\n",
      "1   b   2\n",
      "2   c   3\n",
      "-----------------------------\n",
      "  X12  X3\n",
      "0   a   4\n",
      "1   b   5\n",
      "2   c   6\n",
      "-----------------------------\n",
      "  X11  X2 X12  X3\n",
      "0   a   1   a   4\n",
      "1   b   2   b   5\n",
      "2   c   3   c   6\n"
     ]
    }
   ],
   "source": [
    "# join\n",
    "data1 = pd.DataFrame({'X11': ['a', 'b', 'c'], 'X2': [1, 2, 3]})\n",
    "data2 = pd.DataFrame({'X12': ['a', 'b', 'c'], 'X3': [4, 5, 6]})\n",
    "print(data1)\n",
    "print('-----------------------------')\n",
    "print(data2)\n",
    "print('-----------------------------')\n",
    "print(data1.join(data2, how='right'))\n"
   ]
  },
  {
   "cell_type": "code",
   "execution_count": 114,
   "metadata": {
    "colab": {
     "base_uri": "https://localhost:8080/"
    },
    "id": "P2W5MUZtF9DS",
    "outputId": "31477f28-2885-492f-c4a0-d4f6ed1f3e43"
   },
   "outputs": [
    {
     "name": "stdout",
     "output_type": "stream",
     "text": [
      "  X11  X2\n",
      "0   a   1\n",
      "1   b   2\n",
      "2   c   3\n",
      "-----------------------------\n",
      "  X12  X3\n",
      "0   a   4\n",
      "1   b   5\n",
      "2   c   6\n",
      "-----------------------------\n",
      "  X11  X2 X12  X3\n",
      "0   a   1   a   4\n",
      "1   b   2   b   5\n",
      "2   c   3   c   6\n",
      "-----------------------------\n",
      "   X11   X2  X12   X3\n",
      "0    a  1.0  NaN  NaN\n",
      "1    b  2.0  NaN  NaN\n",
      "2    c  3.0  NaN  NaN\n",
      "0  NaN  NaN    a  4.0\n",
      "1  NaN  NaN    b  5.0\n",
      "2  NaN  NaN    c  6.0\n",
      "-----------------------------\n",
      "  X1\n",
      "0  a\n",
      "1  b\n",
      "2  c\n",
      "0  a\n",
      "1  b\n",
      "2  c\n"
     ]
    }
   ],
   "source": [
    "# Concatenate & Append\n",
    "data1 = pd.DataFrame({'X11': ['a', 'b', 'c'], 'X2': [1, 2, 3]})\n",
    "data2 = pd.DataFrame({'X12': ['a', 'b', 'c'], 'X3': [4, 5, 6]})\n",
    "print(data1)\n",
    "print('-----------------------------')\n",
    "print(data2)\n",
    "print('-----------------------------')\n",
    "print(pd.concat([data1, data2], axis=1, join='inner'))\n",
    "print('-----------------------------')\n",
    "print(data1.append(data2))\n",
    "print('-----------------------------')\n",
    "data1 = pd.DataFrame({'X1': ['a', 'b', 'c'], 'X2': [1, 2, 3]})\n",
    "data2 = pd.DataFrame({'X1': ['a', 'b', 'c'], 'X3': [4, 5, 6]})\n",
    "print(pd.concat([data1, data2], axis=0, join='inner'))"
   ]
  },
  {
   "cell_type": "code",
   "execution_count": 117,
   "metadata": {
    "colab": {
     "base_uri": "https://localhost:8080/"
    },
    "id": "d2b7Z3LaJL6l",
    "outputId": "67ca4f05-400d-4696-911d-22c156f89e46"
   },
   "outputs": [
    {
     "name": "stdout",
     "output_type": "stream",
     "text": [
      "     A      B         C         D\n",
      "0  foo    one -0.736164 -0.817560\n",
      "1  bar    one  0.394593 -1.249959\n",
      "2  foo    two  0.412402  1.490347\n",
      "3  bar  three  0.940934  1.681038\n",
      "4  foo    two  0.273533 -0.260245\n",
      "5  bar    two  0.153320 -1.226280\n",
      "6  foo    one  0.494376  0.447055\n",
      "7  foo  three -0.140840  0.647851\n",
      "-------------------------------------------\n",
      "            C         D\n",
      "A                      \n",
      "bar  1.488848 -0.795202\n",
      "foo  0.303306  1.507447\n",
      "-------------------------------------------\n",
      "        A           B         C         D\n",
      "0  foofoo      oneone -1.472328 -1.635121\n",
      "1  barbar      oneone  0.789187 -2.499919\n",
      "2  foofoo      twotwo  0.824803  2.980694\n",
      "3  barbar  threethree  1.881868  3.362076\n",
      "4  foofoo      twotwo  0.547066 -0.520490\n",
      "5  barbar      twotwo  0.306640 -2.452561\n",
      "6  foofoo      oneone  0.988751  0.894109\n",
      "7  foofoo  threethree -0.281680  1.295701\n"
     ]
    }
   ],
   "source": [
    "#Grouping & Transformation\n",
    "df = pd.DataFrame({'A': ['foo', 'bar', 'foo', 'bar','foo', 'bar', 'foo', 'foo'],\n",
    "                    'B': ['one', 'one', 'two', 'three','two', 'two', 'one', 'three'],\n",
    "                    'C': np.random.randn(8),\n",
    "                    'D': np.random.randn(8)})\n",
    "print(df)\n",
    "print('-------------------------------------------')\n",
    "print(df.groupby('A').sum())\n",
    "print('-------------------------------------------')\n",
    "customSum = lambda x: (x*2)\n",
    "print(df.groupby(level=0).transform(customSum))\n"
   ]
  },
  {
   "cell_type": "code",
   "execution_count": 112,
   "metadata": {
    "colab": {
     "base_uri": "https://localhost:8080/",
     "height": 294
    },
    "id": "EVd0jNxBJL6m",
    "outputId": "abb67efe-766f-4d5a-82de-ce8453c611b9"
   },
   "outputs": [
    {
     "data": {
      "text/plain": [
       "<AxesSubplot:>"
      ]
     },
     "execution_count": 112,
     "metadata": {},
     "output_type": "execute_result"
    },
    {
     "data": {
      "image/png": "[encoded data removed]",
      "text/plain": [
       "<Figure size 432x288 with 1 Axes>"
      ]
     },
     "metadata": {
      "needs_background": "light"
     },
     "output_type": "display_data"
    }
   ],
   "source": [
    "# show image\n",
    "ts = pd.Series(np.random.randn(1000),index=pd.date_range('1/1/2000', periods=1000))\n",
    "ts = ts.cumsum()\n",
    "ts.plot()\n"
   ]
  },
  {
   "cell_type": "code",
   "execution_count": 130,
   "metadata": {
    "colab": {
     "base_uri": "https://localhost:8080/"
    },
    "id": "Pv_mMPzkJL6m",
    "outputId": "56a7a30a-978a-4eb2-d2fc-d8ac495769e2"
   },
   "outputs": [
    {
     "name": "stdout",
     "output_type": "stream",
     "text": [
      "         Date Type     Value\n",
      "0  2016-03-01    a  1.235375\n",
      "1  2016-03-02    b  0.499522\n",
      "2  2016-03-01    c -1.373147\n",
      "3  2016-03-03    a -0.245389\n",
      "4  2016-03-02    b  0.023574\n",
      "5  2016-03-03    c -0.527423\n",
      "0    2016-03-01\n",
      "1    2016-03-02\n",
      "2    2016-03-01\n",
      "3    2016-03-03\n",
      "4    2016-03-02\n",
      "5    2016-03-03\n",
      "Name: Date, dtype: object\n",
      "----------------------------------------------------\n",
      "        Date Type     Value\n",
      "0 2016-03-01    a  1.235375\n",
      "1 2016-03-02    b  0.499522\n",
      "2 2016-03-01    c -1.373147\n",
      "3 2016-03-03    a -0.245389\n",
      "4 2016-03-02    b  0.023574\n",
      "5 2016-03-03    c -0.527423\n",
      "0   2016-03-01\n",
      "1   2016-03-02\n",
      "2   2016-03-01\n",
      "3   2016-03-03\n",
      "4   2016-03-02\n",
      "5   2016-03-03\n",
      "Name: Date, dtype: datetime64[ns]\n",
      "----------------------------------------------------\n",
      "        Date Type     Value\n",
      "0 2000-01-31    a  1.235375\n",
      "1 2000-02-29    b  0.499522\n",
      "2 2000-03-31    c -1.373147\n",
      "3 2000-04-30    a -0.245389\n",
      "4 2000-05-31    b  0.023574\n",
      "5 2000-06-30    c -0.527423\n",
      "----------------------------------------------------\n",
      "[datetime.datetime(2012, 5, 1, 0, 0), datetime.datetime(2012, 5, 6, 0, 0)]\n",
      "DatetimeIndex(['2012-05-01', '2012-05-06'], dtype='datetime64[ns]', freq=None)\n"
     ]
    }
   ],
   "source": [
    "# Date\n",
    "from datetime import datetime\n",
    "df = pd.DataFrame({'Date': ['2016-03-01', '2016-03-02', '2016-03-01', '2016-03-03','2016-03-02', '2016-03-03'],\n",
    "                    'Type': ['a', 'b', 'c', 'a','b', 'c'],\n",
    "                    'Value': np.random.randn(6)})\n",
    "print(df)\n",
    "print(df['Date'])\n",
    "print('----------------------------------------------------')\n",
    "df['Date']= pd.to_datetime(df['Date'])\n",
    "print(df)\n",
    "print(df['Date'])\n",
    "print('----------------------------------------------------')\n",
    "df['Date']= pd.date_range('2000-1-1',periods=6,freq='M')\n",
    "print(df)\n",
    "print('----------------------------------------------------')\n",
    "dates = [datetime(2012,5,1),datetime(2012,5,6)]\n",
    "print(dates)\n",
    "index = pd.DatetimeIndex(dates)\n",
    "print(index)"
   ]
  },
  {
   "cell_type": "code",
   "execution_count": 136,
   "metadata": {
    "colab": {
     "base_uri": "https://localhost:8080/"
    },
    "id": "fy22M5xcQRDs",
    "outputId": "217387a3-6d96-411a-9a36-d44441a84493"
   },
   "outputs": [
    {
     "name": "stdout",
     "output_type": "stream",
     "text": [
      "         Date Type     Value\n",
      "0  2016-03-01    a -0.634063\n",
      "1  2016-03-02    b -0.633469\n",
      "2  2016-03-01    c  1.319180\n",
      "3  2016-03-03    a  1.573693\n",
      "4  2016-03-02    b  0.470919\n",
      "5  2016-03-03    c  1.058257\n",
      "-------------------------------------------\n",
      "0    False\n",
      "1    False\n",
      "2    False\n",
      "3     True\n",
      "4     True\n",
      "5     True\n",
      "dtype: bool\n",
      "-----------------------------------------------\n",
      "         Date Type     Value\n",
      "3  2016-03-03    a  1.573693\n",
      "4  2016-03-02    b  0.470919\n",
      "5  2016-03-03    c  1.058257\n",
      "------------------------------------------------\n",
      "a    3\n",
      "b   -5\n",
      "c    7\n",
      "d    4\n",
      "dtype: int64\n",
      "[ 3 -5  7  4]\n",
      "-------------------------------------------\n"
     ]
    }
   ],
   "source": [
    "# Duplicate Data\n",
    "df = pd.DataFrame({'Date': ['2016-03-01', '2016-03-02', '2016-03-01', '2016-03-03','2016-03-02', '2016-03-03'],\n",
    "                    'Type': ['a', 'b', 'c', 'a','b', 'c'],\n",
    "                    'Value': np.random.randn(6)})\n",
    "print(df)\n",
    "print('-------------------------------------------')\n",
    "print(df.duplicated('Type'))\n",
    "print('-----------------------------------------------')\n",
    "print(df.drop_duplicates('Type', keep='last'))\n",
    "print('------------------------------------------------')\n",
    "s = pd.Series([3, -5, 7, 4], index=['a', 'b', 'c', 'd'])\n",
    "print(s)\n",
    "print(s.unique())\n",
    "print('-------------------------------------------')"
   ]
  },
  {
   "cell_type": "code",
   "execution_count": 16,
   "metadata": {
    "colab": {
     "base_uri": "https://localhost:8080/"
    },
    "id": "NysQt7qKRYSY",
    "outputId": "ae2a305e-e6aa-46cd-8c06-d8174061eecc"
   },
   "outputs": [
    {
     "name": "stdout",
     "output_type": "stream",
     "text": [
      "         Date Type     Value\n",
      "0  2016-03-01    a  1.642646\n",
      "1  2016-03-02  NaN -1.622712\n",
      "2  2016-03-01    c  0.374046\n",
      "3  2016-03-03    a -1.364855\n",
      "4  2016-03-02    b -0.778191\n",
      "5  2016-03-03    c -0.626491\n",
      "-------------------------------------------\n",
      "0    True\n",
      "2    True\n",
      "3    True\n",
      "4    True\n",
      "5    True\n",
      "dtype: bool\n",
      "-------------------------------------------\n",
      "         Date Type     Value\n",
      "0  2016-03-01    a  1.642646\n",
      "2  2016-03-01    c  0.374046\n",
      "3  2016-03-03    a -1.364855\n",
      "4  2016-03-02    b -0.778191\n",
      "5  2016-03-03    c -0.626491\n",
      "-----------------------------------------------\n",
      "         Date Type     Value\n",
      "0  2016-03-01    a  1.642646\n",
      "2  2016-03-01    c  0.374046\n",
      "3  2016-03-03    a -1.364855\n",
      "4  2016-03-02    b -0.778191\n",
      "5  2016-03-03    c -0.626491\n",
      "------------------------------------------------\n",
      "         Date     Type     Value\n",
      "0  2016-03-01        a  1.642646\n",
      "2  2016-03-01        c  0.374046\n",
      "3  2016-03-03        a -1.364855\n",
      "4  2016-03-02  xiaocao -0.778191\n",
      "5  2016-03-03        c -0.626491\n",
      "-------------------------------------------\n"
     ]
    }
   ],
   "source": [
    "# Missing Data\n",
    "import math as mh\n",
    "df = pd.DataFrame({'Date': ['2016-03-01', '2016-03-02', '2016-03-01', '2016-03-03','2016-03-02', '2016-03-03'],\n",
    "                    'Type': ['a', mh.nan, 'c', 'a','b', 'c'],\n",
    "                    'Value': np.random.randn(6)})\n",
    "print(df)\n",
    "print('-------------------------------------------')\n",
    "df = df[~df.isnull().any(axis=1)]\n",
    "print(~df.isnull().any(axis=1))\n",
    "print('-------------------------------------------')\n",
    "print(df.dropna())\n",
    "print('-----------------------------------------------')\n",
    "df = df.fillna('b')\n",
    "print(df)\n",
    "print('------------------------------------------------')\n",
    "print(df.replace('b','xiaocao'))\n",
    "print('-------------------------------------------')"
   ]
  },
  {
   "cell_type": "code",
   "execution_count": 156,
   "metadata": {
    "colab": {
     "base_uri": "https://localhost:8080/"
    },
    "id": "HwvOiGC0TN0z",
    "outputId": "89d0da2e-a409-450b-e4e6-3b3f08d24cbb"
   },
   "outputs": [
    {
     "name": "stdout",
     "output_type": "stream",
     "text": [
      "         Date Type     Value\n",
      "0  2016-03-01    a -0.672430\n",
      "1  2016-03-02    b  2.481446\n",
      "2  2016-03-03    c -0.061124\n",
      "3  2016-03-04    a  0.970864\n",
      "4  2016-03-05    b  0.781836\n",
      "5  2016-03-06    c -0.868620\n",
      "-------------------------------------------\n",
      "Type               a         b         c\n",
      "Date                                    \n",
      "2016-03-01 -0.672430       NaN       NaN\n",
      "2016-03-02       NaN  2.481446       NaN\n",
      "2016-03-03       NaN       NaN -0.061124\n",
      "2016-03-04  0.970864       NaN       NaN\n",
      "2016-03-05       NaN  0.781836       NaN\n",
      "2016-03-06       NaN       NaN -0.868620\n",
      "-------------df1.loc[:,(df1>1).any()]------------------------------\n",
      "Type               b\n",
      "Date                \n",
      "2016-03-01       NaN\n",
      "2016-03-02  2.481446\n",
      "2016-03-03       NaN\n",
      "2016-03-04       NaN\n",
      "2016-03-05  0.781836\n",
      "2016-03-06       NaN\n",
      "-------------df1.loc[:,(df1>1).all()]------------------------------\n",
      "Empty DataFrame\n",
      "Columns: []\n",
      "Index: [2016-03-01, 2016-03-02, 2016-03-03, 2016-03-04, 2016-03-05, 2016-03-06]\n",
      "-------------df1.isnull().any()] ------------------------------\n",
      "Type               a         b         c\n",
      "Date                                    \n",
      "2016-03-01 -0.672430       NaN       NaN\n",
      "2016-03-02       NaN  2.481446       NaN\n",
      "2016-03-03       NaN       NaN -0.061124\n",
      "2016-03-04  0.970864       NaN       NaN\n",
      "2016-03-05       NaN  0.781836       NaN\n",
      "2016-03-06       NaN       NaN -0.868620\n",
      "-------------df1.notnull().all()------------------------------\n",
      "Empty DataFrame\n",
      "Columns: []\n",
      "Index: [2016-03-01, 2016-03-02, 2016-03-03, 2016-03-04, 2016-03-05, 2016-03-06]\n",
      "-------------------------------------------\n"
     ]
    }
   ],
   "source": [
    "# Advanced Indexing\n",
    "df = pd.DataFrame({'Date': ['2016-03-01', '2016-03-02', '2016-03-03', '2016-03-04','2016-03-05', '2016-03-06'],\n",
    "                    'Type': ['a', 'b', 'c', 'a','b', 'c'],\n",
    "                    'Value': np.random.randn(6)})\n",
    "print(df)\n",
    "print('-------------------------------------------')\n",
    "df1= df.pivot(index ='Date',columns ='Type',values ='Value')\n",
    "print(df1)\n",
    "print('-------------df1.loc[:,(df1>1).any()]------------------------------')\n",
    "print(df1.loc[:,(df1>1).any()]) #Select cols with any vals >1\n",
    "print('-------------df1.loc[:,(df1>1).all()]------------------------------')\n",
    "print(df1.loc[:,(df1>1).all()]) #Select cols with vals > 1\n",
    "print('-------------df1.isnull().any()] ------------------------------')\n",
    "print(df1.loc[:,df1.isnull().any()]) #Select cols with NaN\n",
    "print('-------------df1.notnull().all()------------------------------')\n",
    "print(df1.loc[:,df1.notnull().all()])\n",
    "print('-------------------------------------------')"
   ]
  },
  {
   "cell_type": "code",
   "execution_count": 185,
   "metadata": {
    "colab": {
     "base_uri": "https://localhost:8080/",
     "height": 459
    },
    "id": "tEGfBW2SWGWK",
    "outputId": "e2ba2a7a-dfc1-4bcb-fc35-a6acf22ad0f5"
   },
   "outputs": [
    {
     "name": "stdout",
     "output_type": "stream",
     "text": [
      "        one  two  three\n",
      "mouse     1    2      3\n",
      "rabbit    4    5      6\n",
      "---------------------------------------------------\n",
      "        one  three\n",
      "mouse     1      3\n",
      "rabbit    4      6\n",
      "---------------------------------------------------\n",
      "        one  three\n",
      "mouse     1      3\n",
      "rabbit    4      6\n",
      "---------------------------------------------------\n",
      "        one  two  three\n",
      "rabbit    4    5      6\n",
      "---------------------------------------------------\n",
      "a     NaN\n",
      "b    20.0\n",
      "c    30.0\n",
      "dtype: float64\n",
      "-------------------------------------------\n"
     ]
    },
    {
     "data": {
      "text/html": [
       "\n",
       "  <div id=\"df-d1622051-1324-4d03-82dd-79d6a9ab51a8\">\n",
       "    <div class=\"colab-df-container\">\n",
       "      <div>\n",
       "<style scoped>\n",
       "    .dataframe tbody tr th:only-of-type {\n",
       "        vertical-align: middle;\n",
       "    }\n",
       "\n",
       "    .dataframe tbody tr th {\n",
       "        vertical-align: top;\n",
       "    }\n",
       "\n",
       "    .dataframe thead th {\n",
       "        text-align: right;\n",
       "    }\n",
       "</style>\n",
       "<table border=\"1\" class=\"dataframe\">\n",
       "  <thead>\n",
       "    <tr style=\"text-align: right;\">\n",
       "      <th></th>\n",
       "      <th>one</th>\n",
       "      <th>two</th>\n",
       "      <th>three</th>\n",
       "    </tr>\n",
       "  </thead>\n",
       "  <tbody>\n",
       "    <tr>\n",
       "      <th>mouse</th>\n",
       "      <td>1</td>\n",
       "      <td>2</td>\n",
       "      <td>3</td>\n",
       "    </tr>\n",
       "    <tr>\n",
       "      <th>rabbit</th>\n",
       "      <td>4</td>\n",
       "      <td>5</td>\n",
       "      <td>6</td>\n",
       "    </tr>\n",
       "  </tbody>\n",
       "</table>\n",
       "</div>\n",
       "      <button class=\"colab-df-convert\" onclick=\"convertToInteractive('df-d1622051-1324-4d03-82dd-79d6a9ab51a8')\"\n",
       "              title=\"Convert this dataframe to an interactive table.\"\n",
       "              style=\"display:none;\">\n",
       "        \n",
       "  <svg xmlns=\"http://www.w3.org/2000/svg\" height=\"24px\"viewBox=\"0 0 24 24\"\n",
       "       width=\"24px\">\n",
       "    <path d=\"M0 0h24v24H0V0z\" fill=\"none\"/>\n",
       "    <path d=\"M18.56 5.44l.94 2.06.94-2.06 2.06-.94-2.06-.94-.94-2.06-.94 2.06-2.06.94zm-11 1L8.5 8.5l.94-2.06 2.06-.94-2.06-.94L8.5 2.5l-.94 2.06-2.06.94zm10 10l.94 2.06.94-2.06 2.06-.94-2.06-.94-.94-2.06-.94 2.06-2.06.94z\"/><path d=\"M17.41 7.96l-1.37-1.37c-.4-.4-.92-.59-1.43-.59-.52 0-1.04.2-1.43.59L10.3 9.45l-7.72 7.72c-.78.78-.78 2.05 0 2.83L4 21.41c.39.39.9.59 1.41.59.51 0 1.02-.2 1.41-.59l7.78-7.78 2.81-2.81c.8-.78.8-2.07 0-2.86zM5.41 20L4 18.59l7.72-7.72 1.47 1.35L5.41 20z\"/>\n",
       "  </svg>\n",
       "      </button>\n",
       "      \n",
       "  <style>\n",
       "    .colab-df-container {\n",
       "      display:flex;\n",
       "      flex-wrap:wrap;\n",
       "      gap: 12px;\n",
       "    }\n",
       "\n",
       "    .colab-df-convert {\n",
       "      background-color: #E8F0FE;\n",
       "      border: none;\n",
       "      border-radius: 50%;\n",
       "      cursor: pointer;\n",
       "      display: none;\n",
       "      fill: #1967D2;\n",
       "      height: 32px;\n",
       "      padding: 0 0 0 0;\n",
       "      width: 32px;\n",
       "    }\n",
       "\n",
       "    .colab-df-convert:hover {\n",
       "      background-color: #E2EBFA;\n",
       "      box-shadow: 0px 1px 2px rgba(60, 64, 67, 0.3), 0px 1px 3px 1px rgba(60, 64, 67, 0.15);\n",
       "      fill: #174EA6;\n",
       "    }\n",
       "\n",
       "    [theme=dark] .colab-df-convert {\n",
       "      background-color: #3B4455;\n",
       "      fill: #D2E3FC;\n",
       "    }\n",
       "\n",
       "    [theme=dark] .colab-df-convert:hover {\n",
       "      background-color: #434B5C;\n",
       "      box-shadow: 0px 1px 3px 1px rgba(0, 0, 0, 0.15);\n",
       "      filter: drop-shadow(0px 1px 2px rgba(0, 0, 0, 0.3));\n",
       "      fill: #FFFFFF;\n",
       "    }\n",
       "  </style>\n",
       "\n",
       "      <script>\n",
       "        const buttonEl =\n",
       "          document.querySelector('#df-d1622051-1324-4d03-82dd-79d6a9ab51a8 button.colab-df-convert');\n",
       "        buttonEl.style.display =\n",
       "          google.colab.kernel.accessAllowed ? 'block' : 'none';\n",
       "\n",
       "        async function convertToInteractive(key) {\n",
       "          const element = document.querySelector('#df-d1622051-1324-4d03-82dd-79d6a9ab51a8');\n",
       "          const dataTable =\n",
       "            await google.colab.kernel.invokeFunction('convertToInteractive',\n",
       "                                                     [key], {});\n",
       "          if (!dataTable) return;\n",
       "\n",
       "          const docLinkHtml = 'Like what you see? Visit the ' +\n",
       "            '<a target=\"_blank\" href=https://colab.research.google.com/notebooks/data_table.ipynb>data table notebook</a>'\n",
       "            + ' to learn more about interactive tables.';\n",
       "          element.innerHTML = '';\n",
       "          dataTable['output_type'] = 'display_data';\n",
       "          await google.colab.output.renderOutput(dataTable, element);\n",
       "          const docLink = document.createElement('div');\n",
       "          docLink.innerHTML = docLinkHtml;\n",
       "          element.appendChild(docLink);\n",
       "        }\n",
       "      </script>\n",
       "    </div>\n",
       "  </div>\n",
       "  "
      ],
      "text/plain": [
       "        one  two  three\n",
       "mouse     1    2      3\n",
       "rabbit    4    5      6"
      ]
     },
     "execution_count": 185,
     "metadata": {},
     "output_type": "execute_result"
    }
   ],
   "source": [
    "# Advanced Indexing\n",
    "df = pd.DataFrame(np.array(([1, 2, 3], [4, 5, 6])), index=['mouse', 'rabbit'], columns=['one', 'two', 'three'])\n",
    "print(df)\n",
    "print('---------------------------------------------------')\n",
    "# select columns by name\n",
    "print(df.filter(items=['one', 'three']))\n",
    "print('---------------------------------------------------')    \n",
    "# select columns by regular expression\n",
    "print(df.filter(regex='e$', axis=1))\n",
    "print('---------------------------------------------------')    \n",
    "# select rows containing 'bbi'\n",
    "print(df.filter(like='bbi', axis=0))\n",
    "print('---------------------------------------------------')  \n",
    "s = pd.Series([10,20,30],index=['a','b','c'])  \n",
    "print(s.where(s > 10))\n",
    "print('-------------------------------------------')\n",
    "df.query('two < three')"
   ]
  },
  {
   "cell_type": "code",
   "execution_count": 161,
   "metadata": {
    "colab": {
     "base_uri": "https://localhost:8080/"
    },
    "id": "cwxkZy7dXYHl",
    "outputId": "ec685703-831e-489c-9211-9fc3b1d4100d"
   },
   "outputs": [
    {
     "name": "stdout",
     "output_type": "stream",
     "text": [
      "            0         1\n",
      "1 5  0.136313  0.084334\n",
      "2 4  0.958950  0.329343\n",
      "3 3  0.085276  0.455458\n",
      "----------------------------------------------------\n",
      "MultiIndex([(1, 5),\n",
      "            (2, 4),\n",
      "            (3, 3)],\n",
      "           names=['first', 'second'])\n",
      "-------------------------------------------------------\n",
      "                     0         1\n",
      "first second                    \n",
      "1     5       0.776094  0.595005\n",
      "2     4       0.143735  0.900542\n",
      "3     3       0.878373  0.405717\n"
     ]
    }
   ],
   "source": [
    "# Multiple Indexing\n",
    "\n",
    "arrays = [np.array([1,2,3]),np.array([5,4,3])]\n",
    "df5 = pd.DataFrame(np.random.rand(3, 2), index=arrays)\n",
    "print(df5)\n",
    "tuples = list(zip(*arrays))\n",
    "index = pd.MultiIndex.from_tuples(tuples,names=['first', 'second'])\n",
    "print('----------------------------------------------------')\n",
    "print(index)\n",
    "df6 = pd.DataFrame(np.random.rand(3, 2), index=index)\n",
    "print('-------------------------------------------------------')\n",
    "print(df6)\n"
   ]
  },
  {
   "cell_type": "code",
   "execution_count": 177,
   "metadata": {
    "colab": {
     "base_uri": "https://localhost:8080/"
    },
    "id": "b-HmzunJht19",
    "outputId": "02d01fa0-16b0-4e7a-ace2-0f6db0102884"
   },
   "outputs": [
    {
     "name": "stdout",
     "output_type": "stream",
     "text": [
      "         class  max_speed\n",
      "falcon    bird      389.0\n",
      "parrot    bird       24.0\n",
      "lion    mammal       80.5\n",
      "monkey  mammal        NaN\n",
      "-------------------------------------------\n",
      "        max_speed\n",
      "class            \n",
      "bird        389.0\n",
      "bird         24.0\n",
      "mammal       80.5\n",
      "mammal        NaN\n",
      "-------------------------------------------\n",
      "    index   class  max_speed\n",
      "0  falcon    bird      389.0\n",
      "1  parrot    bird       24.0\n",
      "2    lion  mammal       80.5\n",
      "3  monkey  mammal        NaN\n",
      "-------------------------------------------\n",
      "   A  B\n",
      "0  1  4\n",
      "1  2  5\n",
      "2  3  6\n",
      "-------------------------------------------\n",
      "   a  c\n",
      "0  1  4\n",
      "1  2  5\n",
      "2  3  6\n",
      "-------------------------------------------\n",
      "   A  B\n",
      "x  1  4\n",
      "y  2  5\n",
      "z  3  6\n"
     ]
    }
   ],
   "source": [
    "#Indexing\n",
    "df = pd.DataFrame([('bird', 389.0),\n",
    "                    ('bird', 24.0),\n",
    "                    ('mammal', 80.5),\n",
    "                    ('mammal', np.nan)],\n",
    "                   index=['falcon', 'parrot', 'lion', 'monkey'],\n",
    "                   columns=('class', 'max_speed'))\n",
    "print(df)\n",
    "print('-------------------------------------------')\n",
    "df1 = df.set_index('class')\n",
    "print(df1)\n",
    "print('-------------------------------------------')\n",
    "df2 = df.reset_index()\n",
    "print(df2)\n",
    "print('-------------------------------------------')\n",
    "df = pd.DataFrame({\"A\": [1, 2, 3], \"B\": [4, 5, 6]})\n",
    "print(df)\n",
    "print('-------------------------------------------')\n",
    "df3 = df.rename(columns={\"A\": \"a\", \"B\": \"c\"})\n",
    "print(df3)\n",
    "print('-------------------------------------------')\n",
    "df4 = df.rename(index={0: \"x\", 1: \"y\", 2: \"z\"})\n",
    "print(df4)"
   ]
  },
  {
   "cell_type": "code",
   "execution_count": 180,
   "metadata": {
    "colab": {
     "base_uri": "https://localhost:8080/"
    },
    "id": "TaC6cKStlRmw",
    "outputId": "1384d35e-9d4b-4059-977f-ac4f035d1f28"
   },
   "outputs": [
    {
     "name": "stdout",
     "output_type": "stream",
     "text": [
      "           http_status  response_time\n",
      "Firefox            200           0.04\n",
      "Chrome             200           0.02\n",
      "Safari             404           0.07\n",
      "IE10               404           0.08\n",
      "Konqueror          301           1.00\n",
      "-------------------------------------------\n",
      "               http_status  response_time\n",
      "Safari               404.0           0.07\n",
      "Iceweasel              NaN            NaN\n",
      "Comodo Dragon          NaN            NaN\n",
      "IE10                 404.0           0.08\n",
      "Chrome               200.0           0.02\n",
      "-------------------------------------------\n",
      "            prices\n",
      "2010-01-01   100.0\n",
      "2010-01-02   101.0\n",
      "2010-01-03     NaN\n",
      "2010-01-04   100.0\n",
      "2010-01-05    89.0\n",
      "2010-01-06    88.0\n",
      "---------------------------------------------\n",
      "            prices\n",
      "2009-12-29     NaN\n",
      "2009-12-30     NaN\n",
      "2009-12-31     NaN\n",
      "2010-01-01   100.0\n",
      "2010-01-02   101.0\n",
      "2010-01-03     NaN\n",
      "2010-01-04   100.0\n",
      "2010-01-05    89.0\n",
      "2010-01-06    88.0\n",
      "2010-01-07     NaN\n",
      "---------------------------------------------\n",
      "            prices\n",
      "2009-12-29   100.0\n",
      "2009-12-30   100.0\n",
      "2009-12-31   100.0\n",
      "2010-01-01   100.0\n",
      "2010-01-02   101.0\n",
      "2010-01-03     NaN\n",
      "2010-01-04   100.0\n",
      "2010-01-05    89.0\n",
      "2010-01-06    88.0\n",
      "2010-01-07     NaN\n",
      "---------------------------------------------\n",
      "            prices\n",
      "2009-12-29     NaN\n",
      "2009-12-30     NaN\n",
      "2009-12-31     NaN\n",
      "2010-01-01   100.0\n",
      "2010-01-02   101.0\n",
      "2010-01-03     NaN\n",
      "2010-01-04   100.0\n",
      "2010-01-05    89.0\n",
      "2010-01-06    88.0\n",
      "2010-01-07    88.0\n"
     ]
    }
   ],
   "source": [
    "# Reindexing\n",
    "\n",
    "index = ['Firefox', 'Chrome', 'Safari', 'IE10', 'Konqueror']\n",
    "df = pd.DataFrame({'http_status': [200, 200, 404, 404, 301], 'response_time': [0.04, 0.02, 0.07, 0.08, 1.0]}, index=index)\n",
    "print(df)\n",
    "print('-------------------------------------------')\n",
    "new_index = ['Safari', 'Iceweasel', 'Comodo Dragon', 'IE10', 'Chrome']\n",
    "print(df.reindex(new_index))\n",
    "print('-------------------------------------------')\n",
    "date_index = pd.date_range('1/1/2010', periods=6, freq='D')\n",
    "df2 = pd.DataFrame({\"prices\": [100, 101, np.nan, 100, 89, 88]}, index=date_index)\n",
    "print(df2)\n",
    "print('---------------------------------------------')\n",
    "date_index2 = pd.date_range('12/29/2009', periods=10, freq='D')\n",
    "print(df2.reindex(date_index2))\n",
    "print('---------------------------------------------')\n",
    "print(df2.reindex(date_index2, method='bfill'))\n",
    "print('---------------------------------------------')\n",
    "print(df2.reindex(date_index2, method='ffill'))"
   ]
  }
 ],
 "metadata": {
  "colab": {
   "provenance": []
  },
  "kernelspec": {
   "display_name": "Python 3",
   "language": "python",
   "name": "python3"
  },
  "language_info": {
   "codemirror_mode": {
    "name": "ipython",
    "version": 3
   },
   "file_extension": ".py",
   "mimetype": "text/x-python",
   "name": "python",
   "nbconvert_exporter": "python",
   "pygments_lexer": "ipython3",
   "version": "3.7.8"
  }
 },
 "nbformat": 4,
 "nbformat_minor": 1
}
