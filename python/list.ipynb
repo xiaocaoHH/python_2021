{
 "cells": [
  {
   "cell_type": "code",
   "execution_count": 6,
   "metadata": {},
   "outputs": [
    {
     "name": "stdout",
     "output_type": "stream",
     "text": [
      "o\n",
      "5\n",
      "e\n",
      "p\n",
      "['o', 'g', 'r']\n",
      "[1, 4, 6, 8]\n",
      "[1, 3, 5, 7]\n",
      "[1, 3, 5, 7, 9, 11, 13]\n",
      "[1, 3, 5, 7, 9, 11, 13, 9, 7, 5]\n",
      "['re', 're', 're']\n",
      "o\n",
      "['r', 'b', 'l', 'e', 'm']\n",
      "[]\n",
      "True\n",
      "False\n",
      "True\n"
     ]
    }
   ],
   "source": [
    "# list （可变的）\n",
    "\n",
    "################# 产生 ##################\n",
    "\n",
    "# empty list\n",
    "my_list = []\n",
    "my_list = list()\n",
    "\n",
    "# list of integers\n",
    "my_list = [1, 2, 3]\n",
    "\n",
    "# list with mixed datatypes\n",
    "my_list = [1, \"Hello\", 3.4]\n",
    "\n",
    "# nested list\n",
    "my_list = [\"mouse\", [8, 4, 6], ['a']]\n",
    "\n",
    "# elegant way to create new list\n",
    "pow2 = [2 ** x for x in range(10)] # Output: [1, 2, 4, 8, 16, 32, 64, 128, 256, 512]\n",
    "\n",
    "pow2 = [2 ** x for x in range(10) if x > 5] #[64, 128, 256, 512]\n",
    "\n",
    "\n",
    "################# 存取 ##################\n",
    "\n",
    "# List Index (start from zero)\n",
    "\n",
    "my_list = ['p','r','o','b','e']\n",
    "\n",
    "print(my_list[2]) # Output: o\n",
    "\n",
    "# Nested List\n",
    "n_list = [\"Happy\", [2,0,1,5]]\n",
    "print(n_list[1][3])  # Output: 5\n",
    "\n",
    "# Negative indexing\n",
    "my_list = ['p','r','o','b','e']\n",
    "print(my_list[-1]) # Output: e\n",
    "print(my_list[-5]) # Output: p\n",
    "\n",
    "# slice lists\n",
    "my_list = ['p','r','o','g','r','a','m','i','z']\n",
    "print(my_list[2:5]) # 'o''g''r'\n",
    "\n",
    "################# 改变或者加元素 ##################\n",
    "# change elements\n",
    "odd = [2, 4, 6, 8]\n",
    "\n",
    "# change the 1st item    \n",
    "odd[0] = 1 \n",
    "print(odd)   # Output: [1, 4, 6, 8]\n",
    "\n",
    "# add\n",
    "odd = [1, 3, 5]\n",
    "odd.append(7) \n",
    "print(odd)   # Output: [1, 3, 5, 7]\n",
    "\n",
    "odd.extend([9, 11, 13])\n",
    "print(odd)   # Output: [1, 3, 5, 7, 9, 11, 13]\n",
    "\n",
    "print(odd + [9, 7, 5]) # Output: [1, 3, 5, 7, 9, 11, 13, 9, 7, 5]\n",
    "\n",
    "print([\"re\"] * 3) #Output: [\"re\", \"re\", \"re\"]\n",
    "\n",
    "# insert\n",
    "odd = [1, 9]\n",
    "odd.insert(1,3) # Output: [1, 3, 9]\n",
    "\n",
    "################# 删除元素 ##################\n",
    "my_list = ['p','r','o','b','l','e','m']\n",
    "\n",
    "# delete one item\n",
    "del my_list[2]  # Output: ['p', 'r', 'b', 'l', 'e', 'm']\n",
    "\n",
    "# delete multiple items\n",
    "del my_list[1:5]  # Output: ['p', 'm']\n",
    "\n",
    "my_list = ['p','r','o','b','l','e','m']\n",
    "my_list.remove('p') # Output: ['r', 'o', 'b', 'l', 'e', 'm']\n",
    "\n",
    "print(my_list.pop(1)) # Output: 'o'\n",
    "print(my_list)  # Output: ['r', 'b', 'l', 'e', 'm']\n",
    "\n",
    "my_list.clear() # Output: []\n",
    "print(my_list)\n",
    "\n",
    "del my_list\n",
    "# print(my_list)\n",
    "\n",
    "################# 其它操作(成员) ##################\n",
    "my_list = ['p','r','o','b','l','e','m']\n",
    "\n",
    "# Output: True\n",
    "print('p' in my_list)\n",
    "\n",
    "# Output: False\n",
    "print('a' in my_list)\n",
    "\n",
    "# Output: True\n",
    "print('c' not in my_list)\n"
   ]
  },
  {
   "cell_type": "code",
   "execution_count": 2,
   "metadata": {},
   "outputs": [
    {
     "name": "stdout",
     "output_type": "stream",
     "text": [
      "10\n",
      "10\n"
     ]
    }
   ],
   "source": [
    "# 同一个任务，可以由不同的方式实现 1. 自己通过学到的简单语句实现 2. 通过函数 3. 通过自己类定义里面的函数\n",
    "\n",
    "lst = list()\n",
    "lst.extend([2, 1, 3, 4])\n",
    "\n",
    "s = 0\n",
    "for i in lst:\n",
    "    s = s + i\n",
    "    \n",
    "print(s)\n",
    "\n",
    "print(sum(lst))"
   ]
  },
  {
   "cell_type": "code",
   "execution_count": 4,
   "metadata": {},
   "outputs": [
    {
     "data": {
      "text/plain": [
       "[1, 2, 3, 4]"
      ]
     },
     "execution_count": 4,
     "metadata": {},
     "output_type": "execute_result"
    }
   ],
   "source": [
    "#lst.sort()\n",
    "#print(lst)\n",
    "\n",
    "lst = sorted(lst)\n",
    "lst\n"
   ]
  },
  {
   "cell_type": "code",
   "execution_count": 1,
   "metadata": {},
   "outputs": [
    {
     "data": {
      "text/plain": [
       "24"
      ]
     },
     "execution_count": 1,
     "metadata": {},
     "output_type": "execute_result"
    }
   ],
   "source": [
    "my_tuple = tuple([1,23])\n",
    "sum(my_tuple)"
   ]
  },
  {
   "cell_type": "code",
   "execution_count": null,
   "metadata": {},
   "outputs": [],
   "source": []
  }
 ],
 "metadata": {
  "kernelspec": {
   "display_name": "Python 3",
   "language": "python",
   "name": "python3"
  },
  "language_info": {
   "codemirror_mode": {
    "name": "ipython",
    "version": 3
   },
   "file_extension": ".py",
   "mimetype": "text/x-python",
   "name": "python",
   "nbconvert_exporter": "python",
   "pygments_lexer": "ipython3",
   "version": "3.7.8"
  }
 },
 "nbformat": 4,
 "nbformat_minor": 4
}
