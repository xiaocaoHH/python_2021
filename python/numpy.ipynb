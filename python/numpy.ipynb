{
  "cells": [
    {
      "cell_type": "code",
      "execution_count": 43,
      "metadata": {
        "colab": {
          "base_uri": "https://localhost:8080/"
        },
        "id": "-u38oj4KAt0I",
        "outputId": "e625f91c-5d16-4ac0-9339-541e65495400"
      },
      "outputs": [
        {
          "output_type": "stream",
          "name": "stdout",
          "text": [
            "[[1 2 3]\n",
            " [4 5 6]]\n",
            "(2, 3)\n",
            "2\n",
            "8\n",
            "int64\n",
            "2\n",
            "[[1. 2. 3.]\n",
            " [4. 5. 6.]]\n"
          ]
        }
      ],
      "source": [
        "# creation\n",
        "import numpy as np\n",
        "\n",
        "a = np.array([[1,2,3],[4,5,6]])\n",
        "print(a)\n",
        "print(a.shape)\n",
        "print(a.ndim)\n",
        "print(a.itemsize)\n",
        "print(a.dtype)\n",
        "print(len(a))\n",
        "\n",
        "print(np.array([[1,2,3],[4,5,6]], dtype=float))"
      ]
    },
    {
      "cell_type": "code",
      "source": [
        "# read\n",
        "a = np.array([[1,2,3],[4,5,6]])\n",
        "print(a[1,1])\n",
        "print(a[:,1])\n",
        "print(a[a>2])\n"
      ],
      "metadata": {
        "colab": {
          "base_uri": "https://localhost:8080/"
        },
        "id": "bMX_J4J2gzda",
        "outputId": "3caeab15-a1d1-4972-89b4-ede45a9b1ed1"
      },
      "execution_count": 64,
      "outputs": [
        {
          "output_type": "stream",
          "name": "stdout",
          "text": [
            "5\n",
            "[2 5]\n",
            "[3 4 5 6]\n"
          ]
        }
      ]
    },
    {
      "cell_type": "code",
      "source": [
        "# arithmatic operations\n",
        "a = np.array([[1,2,3],[4,5,6]])\n",
        "b = np.array([1,1,1])\n",
        "print(a+b)\n",
        "print(np.add(a,b))\n",
        "print(a+a)\n",
        "print(np.add(a,a))\n"
      ],
      "metadata": {
        "colab": {
          "base_uri": "https://localhost:8080/"
        },
        "id": "p_Boicb5kzJe",
        "outputId": "00b53048-a3e9-4863-acee-1ba34f7e69b0"
      },
      "execution_count": 52,
      "outputs": [
        {
          "output_type": "stream",
          "name": "stdout",
          "text": [
            "[[2 3 4]\n",
            " [5 6 7]]\n",
            "[[2 3 4]\n",
            " [5 6 7]]\n",
            "[[ 2  4  6]\n",
            " [ 8 10 12]]\n",
            "[[ 2  4  6]\n",
            " [ 8 10 12]]\n"
          ]
        }
      ]
    },
    {
      "cell_type": "code",
      "source": [
        "# arithmatic operations\n",
        "a = np.array([[1,2,3],[4,5,6]])\n",
        "b = np.array([1,1,1])\n",
        "print(a-b)\n",
        "print(np.subtract(a,b))\n",
        "print(a-a)\n",
        "print(np.subtract(a,a))\n"
      ],
      "metadata": {
        "colab": {
          "base_uri": "https://localhost:8080/"
        },
        "id": "NMfESay22tRK",
        "outputId": "58c74a3c-0ce0-4ead-c895-04952dec2f1c"
      },
      "execution_count": 53,
      "outputs": [
        {
          "output_type": "stream",
          "name": "stdout",
          "text": [
            "[[0 1 2]\n",
            " [3 4 5]]\n",
            "[[0 1 2]\n",
            " [3 4 5]]\n",
            "[[0 0 0]\n",
            " [0 0 0]]\n",
            "[[0 0 0]\n",
            " [0 0 0]]\n"
          ]
        }
      ]
    },
    {
      "cell_type": "code",
      "source": [
        "# arithmatic operations\n",
        "a = np.array([[1,2,3],[4,5,6]])\n",
        "b = np.array([1,1,1])\n",
        "print(a/b)\n",
        "print(np.divide(a,b))\n",
        "print(a/a)\n",
        "print(np.divide(a,a))\n"
      ],
      "metadata": {
        "colab": {
          "base_uri": "https://localhost:8080/"
        },
        "id": "W-XlXDZs27zA",
        "outputId": "c78e6ace-6616-4860-f115-9d91021eb01f"
      },
      "execution_count": 54,
      "outputs": [
        {
          "output_type": "stream",
          "name": "stdout",
          "text": [
            "[[1. 2. 3.]\n",
            " [4. 5. 6.]]\n",
            "[[1. 2. 3.]\n",
            " [4. 5. 6.]]\n",
            "[[1. 1. 1.]\n",
            " [1. 1. 1.]]\n",
            "[[1. 1. 1.]\n",
            " [1. 1. 1.]]\n"
          ]
        }
      ]
    },
    {
      "cell_type": "code",
      "source": [
        "# arithmatic operations\n",
        "a = np.array([[1,2,3],[4,5,6]])\n",
        "b = np.array([1,1,1])\n",
        "print(a*b)\n",
        "print(np.multiply(a,b))\n",
        "print(a*a)\n",
        "print(np.multiply(a,a))\n"
      ],
      "metadata": {
        "colab": {
          "base_uri": "https://localhost:8080/"
        },
        "id": "eKLSnHkQ3J13",
        "outputId": "2e60d731-ee9a-4836-8b03-a4700f08e2f9"
      },
      "execution_count": 55,
      "outputs": [
        {
          "output_type": "stream",
          "name": "stdout",
          "text": [
            "[[1 2 3]\n",
            " [4 5 6]]\n",
            "[[1 2 3]\n",
            " [4 5 6]]\n",
            "[[ 1  4  9]\n",
            " [16 25 36]]\n",
            "[[ 1  4  9]\n",
            " [16 25 36]]\n"
          ]
        }
      ]
    },
    {
      "cell_type": "code",
      "source": [
        "# arithmatic operations\n",
        "a = np.array([[1,2,3],[4,5,6]])\n",
        "b = np.array([1,1,1])\n",
        "print(a>b)\n",
        "print(a>a)\n",
        "print(a>2)\n",
        "print(b>2)\n"
      ],
      "metadata": {
        "colab": {
          "base_uri": "https://localhost:8080/"
        },
        "id": "nTZ-7pf63r3U",
        "outputId": "6925b645-5219-429a-830c-6f4284afabc7"
      },
      "execution_count": 56,
      "outputs": [
        {
          "output_type": "stream",
          "name": "stdout",
          "text": [
            "[[False  True  True]\n",
            " [ True  True  True]]\n",
            "[[False False False]\n",
            " [False False False]]\n",
            "[[False False  True]\n",
            " [ True  True  True]]\n",
            "[False False False]\n"
          ]
        }
      ]
    },
    {
      "cell_type": "code",
      "source": [
        "# aggregate function\n",
        "a = np.array([[1,2,3],[4,5,6]])\n",
        "b = np.array([1,2,3])\n",
        "print(b.sum())\n",
        "print(a.sum(axis = 1))\n",
        "print(a.sum())"
      ],
      "metadata": {
        "colab": {
          "base_uri": "https://localhost:8080/"
        },
        "id": "8xzLswhSmXty",
        "outputId": "9d346cf2-1765-4ead-e049-d8b9572c4a5e"
      },
      "execution_count": 58,
      "outputs": [
        {
          "output_type": "stream",
          "name": "stdout",
          "text": [
            "6\n",
            "[ 6 15]\n",
            "21\n"
          ]
        }
      ]
    },
    {
      "cell_type": "code",
      "source": [
        "# aggregate function\n",
        "a = np.array([[1,12,3],[4,5,6]])\n",
        "b = np.array([1,2,3])\n",
        "print(a.max(axis = 1))\n",
        "print(a.max())\n",
        "print(b.max())"
      ],
      "metadata": {
        "colab": {
          "base_uri": "https://localhost:8080/"
        },
        "id": "mJXJD-ivoPGs",
        "outputId": "bbf27373-ef13-43b8-9919-3bd592667412"
      },
      "execution_count": 59,
      "outputs": [
        {
          "output_type": "stream",
          "name": "stdout",
          "text": [
            "[12  6]\n",
            "12\n",
            "3\n"
          ]
        }
      ]
    },
    {
      "cell_type": "code",
      "source": [
        "# aggregate function\n",
        "a = np.array([[1,12,3],[4,5,6]])\n",
        "b = np.array([1,2,3])\n",
        "print(a.mean(axis = 1))\n",
        "print(a.mean())\n",
        "print(b.mean())"
      ],
      "metadata": {
        "colab": {
          "base_uri": "https://localhost:8080/"
        },
        "id": "2PZT-iMY8lAl",
        "outputId": "6d740097-a95d-4c2b-f890-ef4fa314cba2"
      },
      "execution_count": 60,
      "outputs": [
        {
          "output_type": "stream",
          "name": "stdout",
          "text": [
            "[5.33333333 5.        ]\n",
            "5.166666666666667\n",
            "2.0\n"
          ]
        }
      ]
    },
    {
      "cell_type": "code",
      "source": [
        "# aggregate function\n",
        "a = np.array([[1,12,3],[4,5,6]])\n",
        "b = np.array([1,2,3])\n",
        "print(a.std(axis = 1))\n",
        "print(a.std())\n",
        "print(b.std())"
      ],
      "metadata": {
        "colab": {
          "base_uri": "https://localhost:8080/"
        },
        "id": "0sgHOnFq81Yx",
        "outputId": "c2456660-f1d6-4992-b929-2f75828159d1"
      },
      "execution_count": 61,
      "outputs": [
        {
          "output_type": "stream",
          "name": "stdout",
          "text": [
            "[4.78423336 0.81649658]\n",
            "3.435921354681384\n",
            "0.816496580927726\n"
          ]
        }
      ]
    },
    {
      "cell_type": "code",
      "source": [
        "# help\n",
        "help(np.zeros)"
      ],
      "metadata": {
        "id": "LSGohYCfn3Ga"
      },
      "execution_count": null,
      "outputs": []
    },
    {
      "cell_type": "code",
      "source": [
        "# help\n",
        "np.info(np.abs)"
      ],
      "metadata": {
        "id": "Qg6ijOFpj0mG"
      },
      "execution_count": null,
      "outputs": []
    },
    {
      "cell_type": "code",
      "source": [
        "# help\n",
        "help(np.sort)"
      ],
      "metadata": {
        "id": "3zou6AgrdcG5"
      },
      "execution_count": null,
      "outputs": []
    },
    {
      "cell_type": "code",
      "execution_count": null,
      "metadata": {
        "id": "WkMRbGQGAt0L",
        "outputId": "566bc773-48fc-4ba1-f4da-03146119ce27"
      },
      "outputs": [
        {
          "name": "stdout",
          "output_type": "stream",
          "text": [
            "[[3 7]\n",
            " [9 1]\n",
            " [2 5]]\n",
            "[[2 1]\n",
            " [3 5]\n",
            " [9 7]]\n",
            "[[3 7]\n",
            " [1 9]\n",
            " [2 5]]\n"
          ]
        }
      ],
      "source": [
        "# sort\n",
        "a = np.array([[3,7],[9,1],[2,5]])\n",
        "print(a)\n",
        "print(np.sort(a, axis = 0) )\n",
        "print(np.sort(a))\n"
      ]
    },
    {
      "cell_type": "code",
      "execution_count": null,
      "metadata": {
        "id": "yul2ojg8At0L",
        "outputId": "d44487e0-75cf-450f-a9ca-c4185c2d453e"
      },
      "outputs": [
        {
          "name": "stdout",
          "output_type": "stream",
          "text": [
            "[(b'raju', 21) (b'anil', 25) (b'ravi', 17) (b'amar', 27)]\n",
            "[(b'amar', 27) (b'anil', 25) (b'raju', 21) (b'ravi', 17)]\n"
          ]
        }
      ],
      "source": [
        "# sort\n",
        "dt = np.dtype([('name', 'S10'),('age', int)]) \n",
        "a = np.array([(\"raju\",21),(\"anil\",25),(\"ravi\", 17), (\"amar\",27)], dtype = dt)\n",
        "print(a)\n",
        "print(np.sort(a, order = 'name'))"
      ]
    },
    {
      "cell_type": "code",
      "execution_count": 47,
      "metadata": {
        "colab": {
          "base_uri": "https://localhost:8080/"
        },
        "id": "KuH7HTpUAt0M",
        "outputId": "d990a8da-93ab-4306-b87f-508ec48e0239"
      },
      "outputs": [
        {
          "output_type": "stream",
          "name": "stdout",
          "text": [
            "[[0. 0. 0.]\n",
            " [0. 0. 0.]]\n",
            "[[1. 1. 1.]\n",
            " [1. 1. 1.]]\n",
            "[[1. 0. 0.]\n",
            " [0. 1. 0.]\n",
            " [0. 0. 1.]]\n",
            "[[0.02728585 0.06723716 0.15869815]\n",
            " [0.53451996 0.20000177 0.06411498]\n",
            " [0.4135433  0.61717278 0.53595056]]\n",
            "[[1.89989347e-316 0.00000000e+000]\n",
            " [6.90629446e-310 6.90623084e-310]]\n",
            "[[7 7 7]\n",
            " [7 7 7]\n",
            " [7 7 7]]\n"
          ]
        }
      ],
      "source": [
        "# initial placeholder\n",
        "print(np.zeros([2,3]))\n",
        "print(np.ones([2,3]))\n",
        "print(np.eye(3))\n",
        "print(np.random.random([3,3]))\n",
        "print(np.empty([2,2]))\n",
        "print(np.full([3,3],7))"
      ]
    },
    {
      "cell_type": "code",
      "source": [
        "# array manipulation\n",
        "a = np.array([[1,2,3],[4,5,6]])\n",
        "print(a)\n",
        "print(a.transpose())\n",
        "print(a)\n",
        "print(a.reshape([3,2]))\n",
        "print(a.reshape([6,1]))"
      ],
      "metadata": {
        "colab": {
          "base_uri": "https://localhost:8080/"
        },
        "id": "LZ-9qk-bz5f_",
        "outputId": "1155a463-0fe1-4775-fa1b-bcea9bff23c6"
      },
      "execution_count": 71,
      "outputs": [
        {
          "output_type": "stream",
          "name": "stdout",
          "text": [
            "[[1 2 3]\n",
            " [4 5 6]]\n",
            "[[1 4]\n",
            " [2 5]\n",
            " [3 6]]\n",
            "[[1 2 3]\n",
            " [4 5 6]]\n",
            "[[1 2]\n",
            " [3 4]\n",
            " [5 6]]\n",
            "[[1]\n",
            " [2]\n",
            " [3]\n",
            " [4]\n",
            " [5]\n",
            " [6]]\n"
          ]
        }
      ]
    },
    {
      "cell_type": "code",
      "source": [
        "# array manipulation\n",
        "a = np.array([[1,2,3],[4,5,6]])\n",
        "print(a)\n",
        "print(a.transpose())\n",
        "print(a)\n",
        "print(a.reshape([3,2]))\n",
        "print(a.reshape([6,1]))"
      ],
      "metadata": {
        "colab": {
          "base_uri": "https://localhost:8080/"
        },
        "id": "T5BxgwN1-fHC",
        "outputId": "eef414d9-fb3e-44bd-ed78-e82b32555e58"
      },
      "execution_count": 72,
      "outputs": [
        {
          "output_type": "stream",
          "name": "stdout",
          "text": [
            "[[1 2 3]\n",
            " [4 5 6]]\n",
            "[[1 4]\n",
            " [2 5]\n",
            " [3 6]]\n",
            "[[1 2 3]\n",
            " [4 5 6]]\n",
            "[[1 2]\n",
            " [3 4]\n",
            " [5 6]]\n",
            "[[1]\n",
            " [2]\n",
            " [3]\n",
            " [4]\n",
            " [5]\n",
            " [6]]\n"
          ]
        }
      ]
    },
    {
      "cell_type": "code",
      "source": [
        "# array manipulation\n",
        "a = np.array([[1,2,3],[4,5,6]])\n",
        "b = np.array([1,2,3])\n",
        "\n",
        "a1 = np.append(a,[10,11])\n",
        "print(a1)\n",
        "b1 = np.append(b,[10,11])\n",
        "print(b1)\n"
      ],
      "metadata": {
        "colab": {
          "base_uri": "https://localhost:8080/"
        },
        "id": "UwAwqDwOBK9A",
        "outputId": "b108db76-edf8-4eb1-f41a-7c207a3e5e9d"
      },
      "execution_count": 74,
      "outputs": [
        {
          "output_type": "stream",
          "name": "stdout",
          "text": [
            "[ 1  2  3  4  5  6 10 11]\n",
            "[ 1  2  3 10 11]\n"
          ]
        }
      ]
    },
    {
      "cell_type": "code",
      "source": [
        "# array manipulation\n",
        "# insert(arr, obj, values, axis=None)\n",
        "a = np.array([[1,2,3],[4,5,6]])\n",
        "b = np.array([1,2,3])\n",
        "\n",
        "a1 = np.insert(a,0,0, axis=1)\n",
        "print(a1)\n",
        "a1 = np.insert(a,0,0, axis=0)\n",
        "print(a1)\n",
        "a1 = np.insert(a,0,[5,5,5], axis=0)\n",
        "print(a1)\n",
        "b1 = np.insert(b,1,0)\n",
        "print(b1)\n",
        "\n"
      ],
      "metadata": {
        "colab": {
          "base_uri": "https://localhost:8080/"
        },
        "id": "I8XhfAUKBw4m",
        "outputId": "f5fd6638-4de4-476b-9b0d-351726c0636b"
      },
      "execution_count": 88,
      "outputs": [
        {
          "output_type": "stream",
          "name": "stdout",
          "text": [
            "[[0 1 2 3]\n",
            " [0 4 5 6]]\n",
            "[[0 0 0]\n",
            " [1 2 3]\n",
            " [4 5 6]]\n",
            "[[5 5 5]\n",
            " [1 2 3]\n",
            " [4 5 6]]\n",
            "[1 0 2 3]\n"
          ]
        }
      ]
    },
    {
      "cell_type": "code",
      "source": [
        "# array manipulation\n",
        "# delete(arr, obj, axis=None)\n",
        "a = np.array([[1,2,3],[4,5,6]])\n",
        "b = np.array([1,2,3])\n",
        "\n",
        "a1 = np.delete(a,0, axis=1)\n",
        "print(a1)\n",
        "a1 = np.delete(a,0,axis=0)\n",
        "print(a1)\n",
        "b1 = np.delete(b,1)\n",
        "print(b1)"
      ],
      "metadata": {
        "colab": {
          "base_uri": "https://localhost:8080/"
        },
        "id": "k7GoovY-D33r",
        "outputId": "69e3cee2-b6ee-41fd-c2e1-f31cc3c5346b"
      },
      "execution_count": 95,
      "outputs": [
        {
          "output_type": "stream",
          "name": "stdout",
          "text": [
            "[[2 3]\n",
            " [5 6]]\n",
            "[[4 5 6]]\n",
            "[1 3]\n"
          ]
        }
      ]
    },
    {
      "cell_type": "code",
      "source": [
        "# array manipulation\n",
        "\n",
        "a = np.array([[1,2,3],[4,5,6]])\n",
        "b = np.array([1,2,3])\n",
        "\n",
        "a1 = np.vstack([a,b])\n",
        "print(a1)\n",
        "b_1 = np.array([[1,1,1,1,1],[2,2,2,2,2]])\n",
        "b1 = np.hstack([a,b_1])\n",
        "print(b1)\n",
        "\n"
      ],
      "metadata": {
        "colab": {
          "base_uri": "https://localhost:8080/"
        },
        "id": "Jlt7cmopE4A7",
        "outputId": "8ae57f32-e228-4552-ff4f-3b2c75d7196e"
      },
      "execution_count": 109,
      "outputs": [
        {
          "output_type": "stream",
          "name": "stdout",
          "text": [
            "[[1 2 3]\n",
            " [4 5 6]\n",
            " [1 2 3]]\n",
            "[[1 2 3 1 1 1 1 1]\n",
            " [4 5 6 2 2 2 2 2]]\n"
          ]
        }
      ]
    },
    {
      "cell_type": "code",
      "source": [
        "# array manipulation\n",
        "\n",
        "e = np.full([2,2],7)\n",
        "f = np.eye(2)\n",
        "\n",
        "print(e)\n",
        "print(f)\n",
        "\n",
        "o = np.hstack([e,f])\n",
        "print(o)"
      ],
      "metadata": {
        "colab": {
          "base_uri": "https://localhost:8080/"
        },
        "id": "88XrV-xPqSiq",
        "outputId": "c44f5753-5968-4b6b-f96b-7bec8c6f6c64"
      },
      "execution_count": 106,
      "outputs": [
        {
          "output_type": "stream",
          "name": "stdout",
          "text": [
            "[[7 7]\n",
            " [7 7]]\n",
            "[[1. 0.]\n",
            " [0. 1.]]\n",
            "[[7. 7. 1. 0.]\n",
            " [7. 7. 0. 1.]]\n"
          ]
        }
      ]
    }
  ],
  "metadata": {
    "kernelspec": {
      "display_name": "Python 3",
      "language": "python",
      "name": "python3"
    },
    "language_info": {
      "codemirror_mode": {
        "name": "ipython",
        "version": 3
      },
      "file_extension": ".py",
      "mimetype": "text/x-python",
      "name": "python",
      "nbconvert_exporter": "python",
      "pygments_lexer": "ipython3",
      "version": "3.7.8"
    },
    "colab": {
      "provenance": []
    }
  },
  "nbformat": 4,
  "nbformat_minor": 0
}