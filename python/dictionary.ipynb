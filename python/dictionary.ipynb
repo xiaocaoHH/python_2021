{
 "cells": [
  {
   "cell_type": "code",
   "execution_count": 1,
   "metadata": {},
   "outputs": [
    {
     "name": "stdout",
     "output_type": "stream",
     "text": [
      "{0: 0, 1: 1, 2: 4, 3: 9, 4: 16, 5: 25}\n",
      "{1: 1, 3: 9, 5: 25, 7: 49, 9: 81}\n"
     ]
    }
   ],
   "source": [
    "# dictionary （可变的）\n",
    "\n",
    "################# 产生 ##################\n",
    "\n",
    "# empty dictionary\n",
    "my_dict = {}\n",
    "\n",
    "# dictionary with integer keys\n",
    "my_dict = {1: 'apple', 2: 'ball'}\n",
    "\n",
    "# dictionary with mixed keys\n",
    "my_dict = {'name': 'John', 1: [2, 4, 3]}\n",
    "\n",
    "# using dict()\n",
    "my_dict = dict({1:'apple', 2:'ball'})\n",
    "\n",
    "# from sequence having each item as a pair\n",
    "my_dict = dict([(1,'apple'), (2,'ball')])\n",
    "\n",
    "# dictionary comprehension\n",
    "#Dictionary comprehension is an elegant and concise way to create new dictionary from an iterable in Python.\n",
    "squares = {x: x*x for x in range(6)}\n",
    "print(squares) # Output: {0: 0, 1: 1, 2: 4, 3: 9, 4: 16, 5: 25}\n",
    "\n",
    "odd_squares = {x: x*x for x in range(11) if x%2 == 1}\n",
    "print(odd_squares) # Output: {1: 1, 3: 9, 5: 25, 7: 49, 9: 81}"
   ]
  },
  {
   "cell_type": "code",
   "execution_count": 2,
   "metadata": {},
   "outputs": [
    {
     "name": "stdout",
     "output_type": "stream",
     "text": [
      "Jack\n",
      "26\n"
     ]
    }
   ],
   "source": [
    "################# 存取 ##################\n",
    "\n",
    "my_dict = {'name':'Jack', 'age': 26}\n",
    "\n",
    "print(my_dict['name']) # Output: Jack\n",
    "\n",
    "print(my_dict.get('age')) # Output: 26\n",
    "\n",
    "# Trying to access keys which doesn't exist throws error\n",
    "# my_dict.get('address')\n",
    "# my_dict['address']"
   ]
  },
  {
   "cell_type": "code",
   "execution_count": 3,
   "metadata": {},
   "outputs": [
    {
     "name": "stdout",
     "output_type": "stream",
     "text": [
      "{'name': 'Jack', 'age': 27}\n",
      "{'name': 'Jack', 'age': 27, 'address': 'Downtown'}\n"
     ]
    }
   ],
   "source": [
    "################# 改变或者加元素 ##################\n",
    "\n",
    "my_dict = {'name':'Jack', 'age': 26}\n",
    "\n",
    "# update value\n",
    "my_dict['age'] = 27\n",
    "\n",
    "print(my_dict) #Output: {'age': 27, 'name': 'Jack'}\n",
    "\n",
    "# add item\n",
    "my_dict['address'] = 'Downtown'\n",
    "print(my_dict)     # Output: {'address': 'Downtown', 'age': 27, 'name': 'Jack'}"
   ]
  },
  {
   "cell_type": "code",
   "execution_count": 4,
   "metadata": {},
   "outputs": [
    {
     "name": "stdout",
     "output_type": "stream",
     "text": [
      "16\n",
      "{1: 1, 2: 4, 3: 9, 5: 25}\n",
      "(5, 25)\n",
      "{1: 1, 2: 4, 3: 9}\n",
      "{1: 1, 2: 4}\n",
      "{}\n"
     ]
    }
   ],
   "source": [
    "################# 删除元素 ##################\n",
    "\n",
    "# create a dictionary\n",
    "squares = {1:1, 2:4, 3:9, 4:16, 5:25}  \n",
    "\n",
    "# remove a particular item\n",
    "print(squares.pop(4)) # Output: 16 \n",
    "print(squares) # Output: {1: 1, 2: 4, 3: 9, 5: 25}\n",
    "\n",
    "# remove an arbitrary item\n",
    "print(squares.popitem()) # Output: (1, 1)\n",
    "print(squares) # Output: {2: 4, 3: 9, 5: 25}\n",
    "\n",
    "# delete a particular item\n",
    "del squares[3]\n",
    "print(squares) # Output: {2: 4, 3: 9}\n",
    "\n",
    "# remove all items\n",
    "squares.clear()\n",
    "print(squares) # Output: {}\n",
    "\n",
    "# delete the dictionary itself\n",
    "del squares  # Throws Error print(squares)"
   ]
  },
  {
   "cell_type": "code",
   "execution_count": 5,
   "metadata": {},
   "outputs": [
    {
     "name": "stdout",
     "output_type": "stream",
     "text": [
      "{'Math': 0, 'English': 0, 'Science': 0}\n",
      "('Math', 0)\n",
      "('English', 0)\n",
      "('Science', 0)\n"
     ]
    },
    {
     "data": {
      "text/plain": [
       "dict_values([0, 0, 0])"
      ]
     },
     "execution_count": 5,
     "metadata": {},
     "output_type": "execute_result"
    }
   ],
   "source": [
    "################# 字典函数 ##################\n",
    "\n",
    "marks = {}.fromkeys(['Math','English','Science'], 0)\n",
    "print(marks) # Output: {'English': 0, 'Math': 0, 'Science': 0}\n",
    "\n",
    "for item in marks.items():\n",
    "    \tprint(item)\n",
    "\n",
    "list(sorted(marks.keys())) # Output: ['English', 'Math', 'Science']\n",
    "\n",
    "marks.values()"
   ]
  },
  {
   "cell_type": "code",
   "execution_count": 7,
   "metadata": {},
   "outputs": [
    {
     "name": "stdout",
     "output_type": "stream",
     "text": [
      "True\n",
      "True\n",
      "False\n",
      "1\n",
      "9\n",
      "25\n",
      "49\n",
      "81\n",
      "5\n",
      "[1, 3, 5, 7, 9]\n"
     ]
    }
   ],
   "source": [
    "################# 其它操作(成员) ##################\n",
    "# membership tests for key only not value\n",
    "\n",
    "squares = {1: 1, 3: 9, 5: 25, 7: 49, 9: 81}\n",
    "print(1 in squares) # Output: True\n",
    "\n",
    "print(2 not in squares) # Output: True\n",
    "\n",
    "print(49 in squares) # Output: False\n",
    "\n",
    "#Iterating through a dictionary\n",
    "squares = {1: 1, 3: 9, 5: 25, 7: 49, 9: 81}\n",
    "for i in squares:\n",
    "     \tprint(squares[i])     \n",
    "     \n",
    "    \n",
    "#Built-in functions like all(), any(), len(), cmp(), sorted() etc. are commonly used with dictionary to perform different tasks.\n",
    "     \n",
    "squares = {1: 1, 3: 9, 5: 25, 7: 49, 9: 81}\n",
    "print(len(squares))    # Output: 5\n",
    "     \n",
    "print(sorted(squares))      # Output: [1, 3, 5, 7, 9]"
   ]
  },
  {
   "cell_type": "code",
   "execution_count": null,
   "metadata": {},
   "outputs": [],
   "source": []
  }
 ],
 "metadata": {
  "kernelspec": {
   "display_name": "Python 3",
   "language": "python",
   "name": "python3"
  },
  "language_info": {
   "codemirror_mode": {
    "name": "ipython",
    "version": 3
   },
   "file_extension": ".py",
   "mimetype": "text/x-python",
   "name": "python",
   "nbconvert_exporter": "python",
   "pygments_lexer": "ipython3",
   "version": "3.7.8"
  }
 },
 "nbformat": 4,
 "nbformat_minor": 4
}
