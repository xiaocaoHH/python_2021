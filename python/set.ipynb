{
 "cells": [
  {
   "cell_type": "code",
   "execution_count": 2,
   "metadata": {},
   "outputs": [
    {
     "name": "stdout",
     "output_type": "stream",
     "text": [
      "{1, 2, 3}\n",
      "{'a', 'b', 'c'}\n",
      "{'H', 'd', 'l', 'W', 'e', 'r', 'o'}\n",
      "{1.0, (1, 2, 3), 'Hello'}\n",
      "{1, 2, 3, 4}\n"
     ]
    }
   ],
   "source": [
    "# set （可变的）\n",
    "\n",
    "################# 产生 ##################\n",
    "\n",
    "# set of integers\n",
    "my_set = {1, 2, 3}\n",
    "print(my_set)\n",
    "\n",
    "# we can make set from a list\n",
    "my_set = set([\"a\", \"b\", \"c\"]) \n",
    "print(my_set)\n",
    "\n",
    "# initialize my_set\n",
    "# Output: set of unique elements\n",
    "my_set = set(\"HelloWorld\")\n",
    "print(my_set)\n",
    "\n",
    "# set of mixed datatypes\n",
    "my_set = {1.0, \"Hello\", (1, 2, 3)}\n",
    "print(my_set)\n",
    "\n",
    "# set do not have duplicates （set中不允许有重复值）\n",
    "my_set = {1,2,3,4,3,2} # Output: {1, 2, 3, 4}\n",
    "print(my_set)\n",
    "\n",
    "# set cannot have mutable items\n",
    "# here [3, 4] is a mutable list\n",
    "# TypeError: unhashable type: 'list'\n",
    "# my_set = {1, 2, [3, 4]}"
   ]
  },
  {
   "cell_type": "code",
   "execution_count": 3,
   "metadata": {},
   "outputs": [
    {
     "name": "stdout",
     "output_type": "stream",
     "text": [
      "{1, 3}\n",
      "{1, 2, 3}\n",
      "{1, 2, 3, 4}\n",
      "{1, 2, 3, 4, 5, 6, 8}\n"
     ]
    }
   ],
   "source": [
    "################# 改变或者加元素 ##################\n",
    "\n",
    "# change a set\n",
    "my_set = {1,3}\n",
    "print(my_set)\n",
    "\n",
    "# TypeError: 'set' object does not support indexing （set不允许用位置查找单个元素）\n",
    "#my_set[0]\n",
    "\n",
    "# add an element\n",
    "my_set.add(2)\n",
    "print(my_set) # Output: {1, 2, 3}\n",
    "\n",
    "# add multiple elements\n",
    "my_set.update([2,3,4])\n",
    "print(my_set) # Output: {1, 2, 3, 4}\n",
    "\n",
    "# add list and set\n",
    "my_set.update([4,5], {1,6,8})\n",
    "print(my_set)  # Output: {1, 2, 3, 4, 5, 6, 8}"
   ]
  },
  {
   "cell_type": "code",
   "execution_count": 6,
   "metadata": {},
   "outputs": [
    {
     "name": "stdout",
     "output_type": "stream",
     "text": [
      "{1, 3, 5, 6}\n",
      "{1, 3, 5}\n",
      "{1, 3, 5}\n",
      "1\n",
      "{5}\n",
      "set()\n"
     ]
    }
   ],
   "source": [
    "################# 删除元素 ##################\n",
    "\n",
    "my_set = {1,3,4,5,6}\n",
    "\n",
    "my_set.discard(4)\n",
    "print(my_set) # Output: {1, 3, 5, 6}\n",
    "\n",
    "# remove an element\n",
    "my_set.remove(6)\n",
    "print(my_set) # Output: {1, 3, 5}\n",
    "\n",
    "# discard an element not present in my_set （discard 删除一个不存在的元素的时候，不报错）\n",
    "my_set.discard(2)\n",
    "print(my_set) # Output: {1, 3, 5}\n",
    "\n",
    "# remove an element not present in my_set （remove 删除一个不存在的元素的时候，不报错）\n",
    "# you will get an error.\n",
    "# Output: KeyError: 2\n",
    "# my_set.remove(2)\n",
    "\n",
    "# pop an element\n",
    "# Output: random element\n",
    "print(my_set.pop())\n",
    "\n",
    "# pop another element\n",
    "# Output: random element\n",
    "my_set.pop()\n",
    "print(my_set)\n",
    "\n",
    "# clear my_set\n",
    "#Output: set()\n",
    "my_set.clear()\n",
    "print(my_set)\n",
    "\n",
    "################# 集合函数 ##################"
   ]
  },
  {
   "cell_type": "code",
   "execution_count": 7,
   "metadata": {},
   "outputs": [
    {
     "name": "stdout",
     "output_type": "stream",
     "text": [
      "{1, 2, 3, 4, 5, 6, 7, 8}\n",
      "{4, 5}\n",
      "{1, 2, 3}\n",
      "{1, 2, 3, 6, 7, 8}\n"
     ]
    },
    {
     "data": {
      "text/plain": [
       "{1, 2, 3, 6, 7, 8}"
      ]
     },
     "execution_count": 7,
     "metadata": {},
     "output_type": "execute_result"
    }
   ],
   "source": [
    "# initialize A and B\n",
    "A = {1, 2, 3, 4, 5}\n",
    "B = {4, 5, 6, 7, 8}\n",
    "\n",
    "# use | operator (并集)\n",
    "print(A | B) # Output: {1, 2, 3, 4, 5, 6, 7, 8}\n",
    "\n",
    "# use union function\n",
    "A.union(B) #{1, 2, 3, 4, 5, 6, 7, 8}\n",
    "\n",
    "# use union function on B\n",
    "B.union(A) #{1, 2, 3, 4, 5, 6, 7, 8}\n",
    "\n",
    "# intersection\n",
    "\n",
    "# initialize A and B \n",
    "A = {1, 2, 3, 4, 5}\n",
    "B = {4, 5, 6, 7, 8}\n",
    "\n",
    "# use & operator （交集）\n",
    "print(A & B) # Output: {4, 5}\n",
    "\n",
    "# use intersection function on A\n",
    "A.intersection(B) #{4, 5}\n",
    "\n",
    "# use intersection function on B\n",
    "B.intersection(A) #{4, 5}\n",
    "\n",
    "# difference\n",
    "\n",
    "# initialize A and B\n",
    "A = {1, 2, 3, 4, 5}\n",
    "B = {4, 5, 6, 7, 8}\n",
    "\n",
    "# use - operator on A （差集）\n",
    "print(A - B) # Output: {1, 2, 3}\n",
    "\n",
    "# use difference function on A\n",
    "A.difference(B) #{1, 2, 3}\n",
    "\n",
    "# use - operator on B\n",
    "B - A #{8, 6, 7}\n",
    "\n",
    "# use difference function on B\n",
    "B.difference(A) # {8, 6, 7}\n",
    "\n",
    "# Symmetric Difference\n",
    "\n",
    "# initialize A and B\n",
    "A = {1, 2, 3, 4, 5}\n",
    "B = {4, 5, 6, 7, 8}\n",
    "\n",
    "# use ^ operator （对称差集）\n",
    "print(A ^ B) # Output: {1, 2, 3, 6, 7, 8}\n",
    "\n",
    "# use symmetric_difference function on A\n",
    "A.symmetric_difference(B) #{1, 2, 3, 6, 7, 8}\n",
    "\n",
    "# use symmetric_difference function on B\n",
    "B.symmetric_difference(A) #{1, 2, 3, 6, 7, 8}"
   ]
  },
  {
   "cell_type": "code",
   "execution_count": 8,
   "metadata": {},
   "outputs": [
    {
     "name": "stdout",
     "output_type": "stream",
     "text": [
      "True\n",
      "False\n",
      "p\n",
      "a\n",
      "e\n",
      "l\n"
     ]
    }
   ],
   "source": [
    "################# 其它操作(成员) ##################\n",
    "\n",
    "# initialize my_set\n",
    "my_set = set(\"apple\")\n",
    "\n",
    "# check if 'a' is present\n",
    "print('a' in my_set) # Output: True\n",
    "\n",
    "# check if 'p' is present\n",
    "print('p' not in my_set) # Output: False\n",
    "\n",
    "for letter in set(\"apple\"):\n",
    "\tprint(letter)"
   ]
  },
  {
   "cell_type": "code",
   "execution_count": null,
   "metadata": {},
   "outputs": [],
   "source": []
  }
 ],
 "metadata": {
  "kernelspec": {
   "display_name": "Python 3",
   "language": "python",
   "name": "python3"
  },
  "language_info": {
   "codemirror_mode": {
    "name": "ipython",
    "version": 3
   },
   "file_extension": ".py",
   "mimetype": "text/x-python",
   "name": "python",
   "nbconvert_exporter": "python",
   "pygments_lexer": "ipython3",
   "version": "3.7.8"
  }
 },
 "nbformat": 4,
 "nbformat_minor": 4
}
