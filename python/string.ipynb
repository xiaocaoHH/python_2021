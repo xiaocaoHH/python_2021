{
 "cells": [
  {
   "cell_type": "code",
   "execution_count": 2,
   "metadata": {},
   "outputs": [
    {
     "name": "stdout",
     "output_type": "stream",
     "text": [
      "Hello\n",
      "Hello\n"
     ]
    }
   ],
   "source": [
    "# String （不可变的）\n",
    "\n",
    "################# 产生 ##################\n",
    "\n",
    "my_string = 'Hello'\n",
    "print(my_string)\n",
    "\n",
    "my_string = \"Hello\"\n",
    "print(my_string)"
   ]
  },
  {
   "cell_type": "code",
   "execution_count": 3,
   "metadata": {},
   "outputs": [
    {
     "name": "stdout",
     "output_type": "stream",
     "text": [
      "str[0] =  p\n",
      "str[-1] =  z\n",
      "str[1:5] =  rogr\n",
      "str[5:-2] =  am\n"
     ]
    }
   ],
   "source": [
    "################# 存取 ##################\n",
    "\n",
    "str = 'programiz'\n",
    "\n",
    "#first character(取第一个字符)\n",
    "print('str[0] = ', str[0])\n",
    "\n",
    "#last character（取最后一个字符）\n",
    "print('str[-1] = ', str[-1])\n",
    "\n",
    "#slicing 2nd to 5th character （取第二个到第六个（不包括第六个））\n",
    "print('str[1:5] = ', str[1:5])\n",
    "\n",
    "#slicing 6th to 2nd last character（正数第六个 到 倒数第二个 （不包括倒数第二个））\n",
    "print('str[5:-2] = ', str[5:-2])\n",
    "\n",
    "# 无法在string上进行修改\n",
    "# change or delete a string (Strings are immutable, which means that elements of a string cannot be changed once it has been assigned. We can simply reassign different strings to the same name.)\n",
    "#my_string = 'programiz'\n",
    "#my_string[5] = 'a'  # TypeError: 'str' object does not support item assignment\n",
    "#del my_string[1]\n",
    "#TypeError: 'str' object doesn't support item deletion\n",
    "#del my_string\n",
    "#print(my_string)   #NameError: name 'my_string' is not defined"
   ]
  },
  {
   "cell_type": "code",
   "execution_count": 4,
   "metadata": {},
   "outputs": [
    {
     "name": "stdout",
     "output_type": "stream",
     "text": [
      "str1 + str2 =  HelloWorld!\n",
      "str1 * 3 = HelloHelloHello\n"
     ]
    }
   ],
   "source": [
    "################# 连接 ##################\n",
    "\n",
    "str1 = 'Hello'\n",
    "str2 ='World!'\n",
    "\n",
    "# using +,  output=HelloWorld! （使用+）\n",
    "print('str1 + str2 = ', str1 + str2)\n",
    "\n",
    "# using *, output=HelloHelloHello (使用*)\n",
    "print('str1 * 3 =', str1 * 3)\n",
    "\n",
    "# two string literals together （直接相连）\n",
    "'Hello ''World!'     #'Hello World!'\n",
    "\n",
    "# using parentheses （使用括弧）\n",
    "s = ('Hello ''World')  #'Hello World'"
   ]
  },
  {
   "cell_type": "code",
   "execution_count": 5,
   "metadata": {},
   "outputs": [
    {
     "name": "stdout",
     "output_type": "stream",
     "text": [
      "He said, \"What's there?\"\n",
      "He said, \"What's there?\"\n"
     ]
    }
   ],
   "source": [
    "################# 其它操作(成员) ##################\n",
    "\n",
    "# string membership test\n",
    "'a' in 'program'  #True\n",
    "'at' not in 'battle'  #False\n",
    "\n",
    "################# 转义序列 ##################\n",
    "\n",
    "# escaping single quotes\n",
    "print('He said, \"What\\'s there?\"')\n",
    "\n",
    "# escaping double quotes\n",
    "print(\"He said, \\\"What's there?\\\"\")"
   ]
  },
  {
   "cell_type": "code",
   "execution_count": 6,
   "metadata": {},
   "outputs": [
    {
     "name": "stdout",
     "output_type": "stream",
     "text": [
      "\n",
      "--- Default Order ---\n",
      "John, Bill and Sean\n",
      "\n",
      "--- Positional Order ---\n",
      "Bill, John and Sean\n",
      "\n",
      "--- Keyword Order ---\n",
      "Sean, Bill and John\n"
     ]
    }
   ],
   "source": [
    "################# 格式化字符串 ##################\n",
    "\n",
    "# default(implicit) order output=John, Bill and Sean\n",
    "default_order = \"{}, {} and {}\".format('John','Bill','Sean')\n",
    "print('\\n--- Default Order ---')\n",
    "print(default_order)\n",
    "\n",
    "# order using positional argument output=Bill, John and Sean\n",
    "positional_order = \"{1}, {0} and {2}\".format('John','Bill','Sean')\n",
    "print('\\n--- Positional Order ---')\n",
    "print(positional_order)\n",
    "\n",
    "# order using keyword argument output=Sean, Bill and John\n",
    "keyword_order = \"{s}, {b} and {j}\".format(j='John',b='Bill',s='Sean')\n",
    "print('\\n--- Keyword Order ---')\n",
    "print(keyword_order)"
   ]
  },
  {
   "cell_type": "code",
   "execution_count": 7,
   "metadata": {},
   "outputs": [
    {
     "name": "stdout",
     "output_type": "stream",
     "text": [
      "len(str) =  6\n"
     ]
    },
    {
     "data": {
      "text/plain": [
       "'Brilliant New Year'"
      ]
     },
     "execution_count": 7,
     "metadata": {},
     "output_type": "execute_result"
    }
   ],
   "source": [
    "################# 字符串函数 ##################\n",
    "\n",
    "str = \"nihao!\"\n",
    "print('len(str) = ', len(str)) #character count output = 6 （求长度）\n",
    "\n",
    "\"PrOgRaMiZ\".lower()   #'programiz' （变小写）\n",
    "\"PrOgRaMiZ\".upper()   #'PROGRAMIZ'  （变大写）\n",
    "\"This will split all words into a list\".split()  #['This', 'will', 'split', 'all', 'words', 'into', 'a', 'list'] （分割）\n",
    "' '.join(['This', 'will', 'join', 'all', 'words', 'into', 'a', 'string']) #'This will join all words into a string' （连接）\n",
    "'Happy New Year'.find('ew')  #7 （查找子字符串）\n",
    "'Happy New Year'.replace('Happy','Brilliant')  #'Brilliant New Year' （替换子字符串）"
   ]
  },
  {
   "cell_type": "code",
   "execution_count": null,
   "metadata": {},
   "outputs": [],
   "source": []
  }
 ],
 "metadata": {
  "kernelspec": {
   "display_name": "Python 3",
   "language": "python",
   "name": "python3"
  },
  "language_info": {
   "codemirror_mode": {
    "name": "ipython",
    "version": 3
   },
   "file_extension": ".py",
   "mimetype": "text/x-python",
   "name": "python",
   "nbconvert_exporter": "python",
   "pygments_lexer": "ipython3",
   "version": "3.7.8"
  }
 },
 "nbformat": 4,
 "nbformat_minor": 4
}
